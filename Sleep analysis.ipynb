{
 "cells": [
  {
   "cell_type": "markdown",
   "metadata": {},
   "source": [
    "# Sleep analysis"
   ]
  },
  {
   "cell_type": "markdown",
   "metadata": {},
   "source": [
    "It has been 6 months since I have been tracking my sleeping data. I bought a Samsung Galaxy Watch Active 2 which allows me to track every stages of my sleep, every night.\n",
    "\n",
    "The goal of this project is to analyse my sleep and see if I can find any correlations between my sleep quality and other external factors."
   ]
  },
  {
   "cell_type": "code",
   "execution_count": 1,
   "metadata": {},
   "outputs": [],
   "source": [
    "import pandas as pd\n",
    "import matplotlib.pyplot as plt\n",
    "import numpy as np\n",
    "import datetime\n",
    "import seaborn as sns"
   ]
  },
  {
   "cell_type": "code",
   "execution_count": 2,
   "metadata": {},
   "outputs": [],
   "source": [
    "sleep_data = pd.read_csv('sleep_data_2021_02_09.csv', sep=';', skiprows=[0])"
   ]
  },
  {
   "cell_type": "code",
   "execution_count": 3,
   "metadata": {},
   "outputs": [
    {
     "data": {
      "text/html": [
       "<div>\n",
       "<style scoped>\n",
       "    .dataframe tbody tr th:only-of-type {\n",
       "        vertical-align: middle;\n",
       "    }\n",
       "\n",
       "    .dataframe tbody tr th {\n",
       "        vertical-align: top;\n",
       "    }\n",
       "\n",
       "    .dataframe thead th {\n",
       "        text-align: right;\n",
       "    }\n",
       "</style>\n",
       "<table border=\"1\" class=\"dataframe\">\n",
       "  <thead>\n",
       "    <tr style=\"text-align: right;\">\n",
       "      <th></th>\n",
       "      <th>start_time</th>\n",
       "      <th>sleep_id</th>\n",
       "      <th>custom</th>\n",
       "      <th>update_time</th>\n",
       "      <th>create_time</th>\n",
       "      <th>stage</th>\n",
       "      <th>time_offset</th>\n",
       "      <th>deviceuuid</th>\n",
       "      <th>pkg_name</th>\n",
       "      <th>end_time</th>\n",
       "      <th>datauuid</th>\n",
       "    </tr>\n",
       "  </thead>\n",
       "  <tbody>\n",
       "    <tr>\n",
       "      <td>0</td>\n",
       "      <td>2020-09-01 23:22:00.000</td>\n",
       "      <td>b953ce09-66f0-5b6f-5b56-83c7dcd10e3b</td>\n",
       "      <td>NaN</td>\n",
       "      <td>02.09.20 07:28</td>\n",
       "      <td>02.09.20 07:28</td>\n",
       "      <td>40001</td>\n",
       "      <td>UTC+0200</td>\n",
       "      <td>0CI+8SNNP+</td>\n",
       "      <td>com.sec.android.app.shealth</td>\n",
       "      <td>2020-09-01 23:26:00.000</td>\n",
       "      <td>3713d761-0e35-bae5-ae2e-bdb42c2e1536</td>\n",
       "    </tr>\n",
       "    <tr>\n",
       "      <td>1</td>\n",
       "      <td>2020-09-01 23:49:00.000</td>\n",
       "      <td>b953ce09-66f0-5b6f-5b56-83c7dcd10e3b</td>\n",
       "      <td>NaN</td>\n",
       "      <td>02.09.20 07:28</td>\n",
       "      <td>02.09.20 07:28</td>\n",
       "      <td>40002</td>\n",
       "      <td>UTC+0200</td>\n",
       "      <td>0CI+8SNNP+</td>\n",
       "      <td>com.sec.android.app.shealth</td>\n",
       "      <td>2020-09-02 00:06:00.000</td>\n",
       "      <td>72ec0096-b482-f885-2580-a6f95f91af15</td>\n",
       "    </tr>\n",
       "    <tr>\n",
       "      <td>2</td>\n",
       "      <td>2020-09-02 00:42:00.000</td>\n",
       "      <td>b953ce09-66f0-5b6f-5b56-83c7dcd10e3b</td>\n",
       "      <td>NaN</td>\n",
       "      <td>02.09.20 07:28</td>\n",
       "      <td>02.09.20 07:28</td>\n",
       "      <td>40004</td>\n",
       "      <td>UTC+0200</td>\n",
       "      <td>0CI+8SNNP+</td>\n",
       "      <td>com.sec.android.app.shealth</td>\n",
       "      <td>2020-09-02 00:49:00.000</td>\n",
       "      <td>a25927cb-e04c-04d4-6231-032a60a218dc</td>\n",
       "    </tr>\n",
       "    <tr>\n",
       "      <td>3</td>\n",
       "      <td>2020-09-02 01:09:00.000</td>\n",
       "      <td>b953ce09-66f0-5b6f-5b56-83c7dcd10e3b</td>\n",
       "      <td>NaN</td>\n",
       "      <td>02.09.20 07:28</td>\n",
       "      <td>02.09.20 07:28</td>\n",
       "      <td>40004</td>\n",
       "      <td>UTC+0200</td>\n",
       "      <td>0CI+8SNNP+</td>\n",
       "      <td>com.sec.android.app.shealth</td>\n",
       "      <td>2020-09-02 01:23:00.000</td>\n",
       "      <td>3a97ac3d-a55b-d34e-db1c-4b594e055823</td>\n",
       "    </tr>\n",
       "    <tr>\n",
       "      <td>4</td>\n",
       "      <td>2020-09-02 02:25:00.000</td>\n",
       "      <td>b953ce09-66f0-5b6f-5b56-83c7dcd10e3b</td>\n",
       "      <td>NaN</td>\n",
       "      <td>02.09.20 07:28</td>\n",
       "      <td>02.09.20 07:28</td>\n",
       "      <td>40002</td>\n",
       "      <td>UTC+0200</td>\n",
       "      <td>0CI+8SNNP+</td>\n",
       "      <td>com.sec.android.app.shealth</td>\n",
       "      <td>2020-09-02 02:58:00.000</td>\n",
       "      <td>f12df4f9-97aa-6a4b-dd17-27f2d70b8c06</td>\n",
       "    </tr>\n",
       "  </tbody>\n",
       "</table>\n",
       "</div>"
      ],
      "text/plain": [
       "                start_time                              sleep_id  custom  \\\n",
       "0  2020-09-01 23:22:00.000  b953ce09-66f0-5b6f-5b56-83c7dcd10e3b     NaN   \n",
       "1  2020-09-01 23:49:00.000  b953ce09-66f0-5b6f-5b56-83c7dcd10e3b     NaN   \n",
       "2  2020-09-02 00:42:00.000  b953ce09-66f0-5b6f-5b56-83c7dcd10e3b     NaN   \n",
       "3  2020-09-02 01:09:00.000  b953ce09-66f0-5b6f-5b56-83c7dcd10e3b     NaN   \n",
       "4  2020-09-02 02:25:00.000  b953ce09-66f0-5b6f-5b56-83c7dcd10e3b     NaN   \n",
       "\n",
       "      update_time     create_time  stage time_offset  deviceuuid  \\\n",
       "0  02.09.20 07:28  02.09.20 07:28  40001    UTC+0200  0CI+8SNNP+   \n",
       "1  02.09.20 07:28  02.09.20 07:28  40002    UTC+0200  0CI+8SNNP+   \n",
       "2  02.09.20 07:28  02.09.20 07:28  40004    UTC+0200  0CI+8SNNP+   \n",
       "3  02.09.20 07:28  02.09.20 07:28  40004    UTC+0200  0CI+8SNNP+   \n",
       "4  02.09.20 07:28  02.09.20 07:28  40002    UTC+0200  0CI+8SNNP+   \n",
       "\n",
       "                      pkg_name                 end_time  \\\n",
       "0  com.sec.android.app.shealth  2020-09-01 23:26:00.000   \n",
       "1  com.sec.android.app.shealth  2020-09-02 00:06:00.000   \n",
       "2  com.sec.android.app.shealth  2020-09-02 00:49:00.000   \n",
       "3  com.sec.android.app.shealth  2020-09-02 01:23:00.000   \n",
       "4  com.sec.android.app.shealth  2020-09-02 02:58:00.000   \n",
       "\n",
       "                               datauuid  \n",
       "0  3713d761-0e35-bae5-ae2e-bdb42c2e1536  \n",
       "1  72ec0096-b482-f885-2580-a6f95f91af15  \n",
       "2  a25927cb-e04c-04d4-6231-032a60a218dc  \n",
       "3  3a97ac3d-a55b-d34e-db1c-4b594e055823  \n",
       "4  f12df4f9-97aa-6a4b-dd17-27f2d70b8c06  "
      ]
     },
     "execution_count": 3,
     "metadata": {},
     "output_type": "execute_result"
    }
   ],
   "source": [
    "sleep_data.head()"
   ]
  },
  {
   "cell_type": "code",
   "execution_count": 4,
   "metadata": {},
   "outputs": [],
   "source": [
    "sleep_data.drop(['custom','sleep_id','deviceuuid','pkg_name','datauuid'],axis=1, inplace=True)"
   ]
  },
  {
   "cell_type": "code",
   "execution_count": 5,
   "metadata": {},
   "outputs": [
    {
     "data": {
      "text/html": [
       "<div>\n",
       "<style scoped>\n",
       "    .dataframe tbody tr th:only-of-type {\n",
       "        vertical-align: middle;\n",
       "    }\n",
       "\n",
       "    .dataframe tbody tr th {\n",
       "        vertical-align: top;\n",
       "    }\n",
       "\n",
       "    .dataframe thead th {\n",
       "        text-align: right;\n",
       "    }\n",
       "</style>\n",
       "<table border=\"1\" class=\"dataframe\">\n",
       "  <thead>\n",
       "    <tr style=\"text-align: right;\">\n",
       "      <th></th>\n",
       "      <th>start_time</th>\n",
       "      <th>update_time</th>\n",
       "      <th>create_time</th>\n",
       "      <th>stage</th>\n",
       "      <th>time_offset</th>\n",
       "      <th>end_time</th>\n",
       "    </tr>\n",
       "  </thead>\n",
       "  <tbody>\n",
       "    <tr>\n",
       "      <td>0</td>\n",
       "      <td>2020-09-01 23:22:00.000</td>\n",
       "      <td>02.09.20 07:28</td>\n",
       "      <td>02.09.20 07:28</td>\n",
       "      <td>40001</td>\n",
       "      <td>UTC+0200</td>\n",
       "      <td>2020-09-01 23:26:00.000</td>\n",
       "    </tr>\n",
       "    <tr>\n",
       "      <td>1</td>\n",
       "      <td>2020-09-01 23:49:00.000</td>\n",
       "      <td>02.09.20 07:28</td>\n",
       "      <td>02.09.20 07:28</td>\n",
       "      <td>40002</td>\n",
       "      <td>UTC+0200</td>\n",
       "      <td>2020-09-02 00:06:00.000</td>\n",
       "    </tr>\n",
       "    <tr>\n",
       "      <td>2</td>\n",
       "      <td>2020-09-02 00:42:00.000</td>\n",
       "      <td>02.09.20 07:28</td>\n",
       "      <td>02.09.20 07:28</td>\n",
       "      <td>40004</td>\n",
       "      <td>UTC+0200</td>\n",
       "      <td>2020-09-02 00:49:00.000</td>\n",
       "    </tr>\n",
       "    <tr>\n",
       "      <td>3</td>\n",
       "      <td>2020-09-02 01:09:00.000</td>\n",
       "      <td>02.09.20 07:28</td>\n",
       "      <td>02.09.20 07:28</td>\n",
       "      <td>40004</td>\n",
       "      <td>UTC+0200</td>\n",
       "      <td>2020-09-02 01:23:00.000</td>\n",
       "    </tr>\n",
       "    <tr>\n",
       "      <td>4</td>\n",
       "      <td>2020-09-02 02:25:00.000</td>\n",
       "      <td>02.09.20 07:28</td>\n",
       "      <td>02.09.20 07:28</td>\n",
       "      <td>40002</td>\n",
       "      <td>UTC+0200</td>\n",
       "      <td>2020-09-02 02:58:00.000</td>\n",
       "    </tr>\n",
       "  </tbody>\n",
       "</table>\n",
       "</div>"
      ],
      "text/plain": [
       "                start_time     update_time     create_time  stage time_offset  \\\n",
       "0  2020-09-01 23:22:00.000  02.09.20 07:28  02.09.20 07:28  40001    UTC+0200   \n",
       "1  2020-09-01 23:49:00.000  02.09.20 07:28  02.09.20 07:28  40002    UTC+0200   \n",
       "2  2020-09-02 00:42:00.000  02.09.20 07:28  02.09.20 07:28  40004    UTC+0200   \n",
       "3  2020-09-02 01:09:00.000  02.09.20 07:28  02.09.20 07:28  40004    UTC+0200   \n",
       "4  2020-09-02 02:25:00.000  02.09.20 07:28  02.09.20 07:28  40002    UTC+0200   \n",
       "\n",
       "                  end_time  \n",
       "0  2020-09-01 23:26:00.000  \n",
       "1  2020-09-02 00:06:00.000  \n",
       "2  2020-09-02 00:49:00.000  \n",
       "3  2020-09-02 01:23:00.000  \n",
       "4  2020-09-02 02:58:00.000  "
      ]
     },
     "execution_count": 5,
     "metadata": {},
     "output_type": "execute_result"
    }
   ],
   "source": [
    "sleep_data.head()"
   ]
  },
  {
   "cell_type": "code",
   "execution_count": 6,
   "metadata": {},
   "outputs": [],
   "source": [
    "#I decide to remove update_time and create_time because they do not look actionable compared to start_time\n",
    "#and end_time\n",
    "sleep_data.drop(['update_time','create_time'],axis=1, inplace=True)"
   ]
  },
  {
   "cell_type": "code",
   "execution_count": 7,
   "metadata": {},
   "outputs": [
    {
     "data": {
      "text/html": [
       "<div>\n",
       "<style scoped>\n",
       "    .dataframe tbody tr th:only-of-type {\n",
       "        vertical-align: middle;\n",
       "    }\n",
       "\n",
       "    .dataframe tbody tr th {\n",
       "        vertical-align: top;\n",
       "    }\n",
       "\n",
       "    .dataframe thead th {\n",
       "        text-align: right;\n",
       "    }\n",
       "</style>\n",
       "<table border=\"1\" class=\"dataframe\">\n",
       "  <thead>\n",
       "    <tr style=\"text-align: right;\">\n",
       "      <th></th>\n",
       "      <th>start_time</th>\n",
       "      <th>stage</th>\n",
       "      <th>time_offset</th>\n",
       "      <th>end_time</th>\n",
       "    </tr>\n",
       "  </thead>\n",
       "  <tbody>\n",
       "    <tr>\n",
       "      <td>0</td>\n",
       "      <td>2020-09-01 23:22:00.000</td>\n",
       "      <td>40001</td>\n",
       "      <td>UTC+0200</td>\n",
       "      <td>2020-09-01 23:26:00.000</td>\n",
       "    </tr>\n",
       "    <tr>\n",
       "      <td>1</td>\n",
       "      <td>2020-09-01 23:49:00.000</td>\n",
       "      <td>40002</td>\n",
       "      <td>UTC+0200</td>\n",
       "      <td>2020-09-02 00:06:00.000</td>\n",
       "    </tr>\n",
       "    <tr>\n",
       "      <td>2</td>\n",
       "      <td>2020-09-02 00:42:00.000</td>\n",
       "      <td>40004</td>\n",
       "      <td>UTC+0200</td>\n",
       "      <td>2020-09-02 00:49:00.000</td>\n",
       "    </tr>\n",
       "    <tr>\n",
       "      <td>3</td>\n",
       "      <td>2020-09-02 01:09:00.000</td>\n",
       "      <td>40004</td>\n",
       "      <td>UTC+0200</td>\n",
       "      <td>2020-09-02 01:23:00.000</td>\n",
       "    </tr>\n",
       "    <tr>\n",
       "      <td>4</td>\n",
       "      <td>2020-09-02 02:25:00.000</td>\n",
       "      <td>40002</td>\n",
       "      <td>UTC+0200</td>\n",
       "      <td>2020-09-02 02:58:00.000</td>\n",
       "    </tr>\n",
       "  </tbody>\n",
       "</table>\n",
       "</div>"
      ],
      "text/plain": [
       "                start_time  stage time_offset                 end_time\n",
       "0  2020-09-01 23:22:00.000  40001    UTC+0200  2020-09-01 23:26:00.000\n",
       "1  2020-09-01 23:49:00.000  40002    UTC+0200  2020-09-02 00:06:00.000\n",
       "2  2020-09-02 00:42:00.000  40004    UTC+0200  2020-09-02 00:49:00.000\n",
       "3  2020-09-02 01:09:00.000  40004    UTC+0200  2020-09-02 01:23:00.000\n",
       "4  2020-09-02 02:25:00.000  40002    UTC+0200  2020-09-02 02:58:00.000"
      ]
     },
     "execution_count": 7,
     "metadata": {},
     "output_type": "execute_result"
    }
   ],
   "source": [
    "sleep_data.head()"
   ]
  },
  {
   "cell_type": "markdown",
   "metadata": {},
   "source": [
    "| Stage        | Signification           | Description |\n",
    "| ------------- | :-------------| :------------- |\n",
    "| 40001      | **Awaken stage of sleep.** | Eyes open. Responsive to external stimuli. |\n",
    "| 40002      | **Light stage of sleep.** | Breathing slows down and heartbeat becomes regular. Typically lasts between 1 and 20 minutes after falling asleep. |\n",
    "| 40003 | **Deep stage of sleep.** | Brain waves slow down and become larger. Typically starts 35 - 45 minutes after falling asleep. |\n",
    "| 40004 | **REM (Rapid Eye Movement) stage of sleep.** | Brain waves similar to waking. Most vivid dreams happen in this stage. Body does not move. |\n",
    "\n",
    "*https://developer.samsung.com/health/server/partner-only/api-reference/data-types/sleep-stage.html*"
   ]
  },
  {
   "cell_type": "code",
   "execution_count": 8,
   "metadata": {},
   "outputs": [],
   "source": [
    "#All the data was mixed up. In here I sort the values by start time.\n",
    "sleep_data = sleep_data.sort_values('start_time').reset_index().drop('index',axis=1)"
   ]
  },
  {
   "cell_type": "code",
   "execution_count": 9,
   "metadata": {},
   "outputs": [
    {
     "data": {
      "text/html": [
       "<div>\n",
       "<style scoped>\n",
       "    .dataframe tbody tr th:only-of-type {\n",
       "        vertical-align: middle;\n",
       "    }\n",
       "\n",
       "    .dataframe tbody tr th {\n",
       "        vertical-align: top;\n",
       "    }\n",
       "\n",
       "    .dataframe thead th {\n",
       "        text-align: right;\n",
       "    }\n",
       "</style>\n",
       "<table border=\"1\" class=\"dataframe\">\n",
       "  <thead>\n",
       "    <tr style=\"text-align: right;\">\n",
       "      <th></th>\n",
       "      <th>start_time</th>\n",
       "      <th>stage</th>\n",
       "      <th>time_offset</th>\n",
       "      <th>end_time</th>\n",
       "    </tr>\n",
       "  </thead>\n",
       "  <tbody>\n",
       "    <tr>\n",
       "      <td>0</td>\n",
       "      <td>2020-09-01 23:22:00.000</td>\n",
       "      <td>40001</td>\n",
       "      <td>UTC+0200</td>\n",
       "      <td>2020-09-01 23:26:00.000</td>\n",
       "    </tr>\n",
       "    <tr>\n",
       "      <td>1</td>\n",
       "      <td>2020-09-01 23:26:00.000</td>\n",
       "      <td>40003</td>\n",
       "      <td>UTC+0200</td>\n",
       "      <td>2020-09-01 23:29:00.000</td>\n",
       "    </tr>\n",
       "    <tr>\n",
       "      <td>2</td>\n",
       "      <td>2020-09-01 23:29:00.000</td>\n",
       "      <td>40002</td>\n",
       "      <td>UTC+0200</td>\n",
       "      <td>2020-09-01 23:30:00.000</td>\n",
       "    </tr>\n",
       "    <tr>\n",
       "      <td>3</td>\n",
       "      <td>2020-09-01 23:30:00.000</td>\n",
       "      <td>40003</td>\n",
       "      <td>UTC+0200</td>\n",
       "      <td>2020-09-01 23:33:00.000</td>\n",
       "    </tr>\n",
       "    <tr>\n",
       "      <td>4</td>\n",
       "      <td>2020-09-01 23:33:00.000</td>\n",
       "      <td>40002</td>\n",
       "      <td>UTC+0200</td>\n",
       "      <td>2020-09-01 23:43:00.000</td>\n",
       "    </tr>\n",
       "  </tbody>\n",
       "</table>\n",
       "</div>"
      ],
      "text/plain": [
       "                start_time  stage time_offset                 end_time\n",
       "0  2020-09-01 23:22:00.000  40001    UTC+0200  2020-09-01 23:26:00.000\n",
       "1  2020-09-01 23:26:00.000  40003    UTC+0200  2020-09-01 23:29:00.000\n",
       "2  2020-09-01 23:29:00.000  40002    UTC+0200  2020-09-01 23:30:00.000\n",
       "3  2020-09-01 23:30:00.000  40003    UTC+0200  2020-09-01 23:33:00.000\n",
       "4  2020-09-01 23:33:00.000  40002    UTC+0200  2020-09-01 23:43:00.000"
      ]
     },
     "execution_count": 9,
     "metadata": {},
     "output_type": "execute_result"
    }
   ],
   "source": [
    "sleep_data.head()"
   ]
  },
  {
   "cell_type": "code",
   "execution_count": 10,
   "metadata": {},
   "outputs": [],
   "source": [
    "sleep_data['start_time_date'] = sleep_data['start_time'].apply(lambda x: x.split(' ')[0])\n",
    "sleep_data['start_time_hour'] = sleep_data['start_time'].apply(lambda x: x.split(' ')[1].split('.')[0])\n",
    "sleep_data['end_time_date'] = sleep_data['end_time'].apply(lambda x: x.split(' ')[0])\n",
    "sleep_data['end_time_hour'] = sleep_data['end_time'].apply(lambda x: x.split(' ')[1].split('.')[0])"
   ]
  },
  {
   "cell_type": "code",
   "execution_count": 11,
   "metadata": {},
   "outputs": [
    {
     "data": {
      "text/html": [
       "<div>\n",
       "<style scoped>\n",
       "    .dataframe tbody tr th:only-of-type {\n",
       "        vertical-align: middle;\n",
       "    }\n",
       "\n",
       "    .dataframe tbody tr th {\n",
       "        vertical-align: top;\n",
       "    }\n",
       "\n",
       "    .dataframe thead th {\n",
       "        text-align: right;\n",
       "    }\n",
       "</style>\n",
       "<table border=\"1\" class=\"dataframe\">\n",
       "  <thead>\n",
       "    <tr style=\"text-align: right;\">\n",
       "      <th></th>\n",
       "      <th>start_time</th>\n",
       "      <th>stage</th>\n",
       "      <th>time_offset</th>\n",
       "      <th>end_time</th>\n",
       "      <th>start_time_date</th>\n",
       "      <th>start_time_hour</th>\n",
       "      <th>end_time_date</th>\n",
       "      <th>end_time_hour</th>\n",
       "    </tr>\n",
       "  </thead>\n",
       "  <tbody>\n",
       "    <tr>\n",
       "      <td>0</td>\n",
       "      <td>2020-09-01 23:22:00.000</td>\n",
       "      <td>40001</td>\n",
       "      <td>UTC+0200</td>\n",
       "      <td>2020-09-01 23:26:00.000</td>\n",
       "      <td>2020-09-01</td>\n",
       "      <td>23:22:00</td>\n",
       "      <td>2020-09-01</td>\n",
       "      <td>23:26:00</td>\n",
       "    </tr>\n",
       "    <tr>\n",
       "      <td>1</td>\n",
       "      <td>2020-09-01 23:26:00.000</td>\n",
       "      <td>40003</td>\n",
       "      <td>UTC+0200</td>\n",
       "      <td>2020-09-01 23:29:00.000</td>\n",
       "      <td>2020-09-01</td>\n",
       "      <td>23:26:00</td>\n",
       "      <td>2020-09-01</td>\n",
       "      <td>23:29:00</td>\n",
       "    </tr>\n",
       "    <tr>\n",
       "      <td>2</td>\n",
       "      <td>2020-09-01 23:29:00.000</td>\n",
       "      <td>40002</td>\n",
       "      <td>UTC+0200</td>\n",
       "      <td>2020-09-01 23:30:00.000</td>\n",
       "      <td>2020-09-01</td>\n",
       "      <td>23:29:00</td>\n",
       "      <td>2020-09-01</td>\n",
       "      <td>23:30:00</td>\n",
       "    </tr>\n",
       "    <tr>\n",
       "      <td>3</td>\n",
       "      <td>2020-09-01 23:30:00.000</td>\n",
       "      <td>40003</td>\n",
       "      <td>UTC+0200</td>\n",
       "      <td>2020-09-01 23:33:00.000</td>\n",
       "      <td>2020-09-01</td>\n",
       "      <td>23:30:00</td>\n",
       "      <td>2020-09-01</td>\n",
       "      <td>23:33:00</td>\n",
       "    </tr>\n",
       "    <tr>\n",
       "      <td>4</td>\n",
       "      <td>2020-09-01 23:33:00.000</td>\n",
       "      <td>40002</td>\n",
       "      <td>UTC+0200</td>\n",
       "      <td>2020-09-01 23:43:00.000</td>\n",
       "      <td>2020-09-01</td>\n",
       "      <td>23:33:00</td>\n",
       "      <td>2020-09-01</td>\n",
       "      <td>23:43:00</td>\n",
       "    </tr>\n",
       "  </tbody>\n",
       "</table>\n",
       "</div>"
      ],
      "text/plain": [
       "                start_time  stage time_offset                 end_time  \\\n",
       "0  2020-09-01 23:22:00.000  40001    UTC+0200  2020-09-01 23:26:00.000   \n",
       "1  2020-09-01 23:26:00.000  40003    UTC+0200  2020-09-01 23:29:00.000   \n",
       "2  2020-09-01 23:29:00.000  40002    UTC+0200  2020-09-01 23:30:00.000   \n",
       "3  2020-09-01 23:30:00.000  40003    UTC+0200  2020-09-01 23:33:00.000   \n",
       "4  2020-09-01 23:33:00.000  40002    UTC+0200  2020-09-01 23:43:00.000   \n",
       "\n",
       "  start_time_date start_time_hour end_time_date end_time_hour  \n",
       "0      2020-09-01        23:22:00    2020-09-01      23:26:00  \n",
       "1      2020-09-01        23:26:00    2020-09-01      23:29:00  \n",
       "2      2020-09-01        23:29:00    2020-09-01      23:30:00  \n",
       "3      2020-09-01        23:30:00    2020-09-01      23:33:00  \n",
       "4      2020-09-01        23:33:00    2020-09-01      23:43:00  "
      ]
     },
     "execution_count": 11,
     "metadata": {},
     "output_type": "execute_result"
    }
   ],
   "source": [
    "sleep_data.head()"
   ]
  },
  {
   "cell_type": "code",
   "execution_count": 12,
   "metadata": {},
   "outputs": [],
   "source": [
    "def stage_pairing(x):\n",
    "    if x == 40001:\n",
    "        x = 'Awaken'\n",
    "    elif x == 40002:\n",
    "        x = 'Light'\n",
    "    elif x == 40003:\n",
    "        x = 'Deep'\n",
    "    else:\n",
    "        x = 'REM'\n",
    "    return x\n",
    "\n",
    "sleep_data['stage_of_sleep'] = sleep_data['stage'].apply(lambda x: stage_pairing(x))"
   ]
  },
  {
   "cell_type": "code",
   "execution_count": 13,
   "metadata": {},
   "outputs": [
    {
     "data": {
      "text/html": [
       "<div>\n",
       "<style scoped>\n",
       "    .dataframe tbody tr th:only-of-type {\n",
       "        vertical-align: middle;\n",
       "    }\n",
       "\n",
       "    .dataframe tbody tr th {\n",
       "        vertical-align: top;\n",
       "    }\n",
       "\n",
       "    .dataframe thead th {\n",
       "        text-align: right;\n",
       "    }\n",
       "</style>\n",
       "<table border=\"1\" class=\"dataframe\">\n",
       "  <thead>\n",
       "    <tr style=\"text-align: right;\">\n",
       "      <th></th>\n",
       "      <th>start_time</th>\n",
       "      <th>stage</th>\n",
       "      <th>time_offset</th>\n",
       "      <th>end_time</th>\n",
       "      <th>start_time_date</th>\n",
       "      <th>start_time_hour</th>\n",
       "      <th>end_time_date</th>\n",
       "      <th>end_time_hour</th>\n",
       "      <th>stage_of_sleep</th>\n",
       "    </tr>\n",
       "  </thead>\n",
       "  <tbody>\n",
       "    <tr>\n",
       "      <td>0</td>\n",
       "      <td>2020-09-01 23:22:00.000</td>\n",
       "      <td>40001</td>\n",
       "      <td>UTC+0200</td>\n",
       "      <td>2020-09-01 23:26:00.000</td>\n",
       "      <td>2020-09-01</td>\n",
       "      <td>23:22:00</td>\n",
       "      <td>2020-09-01</td>\n",
       "      <td>23:26:00</td>\n",
       "      <td>Awaken</td>\n",
       "    </tr>\n",
       "    <tr>\n",
       "      <td>1</td>\n",
       "      <td>2020-09-01 23:26:00.000</td>\n",
       "      <td>40003</td>\n",
       "      <td>UTC+0200</td>\n",
       "      <td>2020-09-01 23:29:00.000</td>\n",
       "      <td>2020-09-01</td>\n",
       "      <td>23:26:00</td>\n",
       "      <td>2020-09-01</td>\n",
       "      <td>23:29:00</td>\n",
       "      <td>Deep</td>\n",
       "    </tr>\n",
       "    <tr>\n",
       "      <td>2</td>\n",
       "      <td>2020-09-01 23:29:00.000</td>\n",
       "      <td>40002</td>\n",
       "      <td>UTC+0200</td>\n",
       "      <td>2020-09-01 23:30:00.000</td>\n",
       "      <td>2020-09-01</td>\n",
       "      <td>23:29:00</td>\n",
       "      <td>2020-09-01</td>\n",
       "      <td>23:30:00</td>\n",
       "      <td>Light</td>\n",
       "    </tr>\n",
       "    <tr>\n",
       "      <td>3</td>\n",
       "      <td>2020-09-01 23:30:00.000</td>\n",
       "      <td>40003</td>\n",
       "      <td>UTC+0200</td>\n",
       "      <td>2020-09-01 23:33:00.000</td>\n",
       "      <td>2020-09-01</td>\n",
       "      <td>23:30:00</td>\n",
       "      <td>2020-09-01</td>\n",
       "      <td>23:33:00</td>\n",
       "      <td>Deep</td>\n",
       "    </tr>\n",
       "    <tr>\n",
       "      <td>4</td>\n",
       "      <td>2020-09-01 23:33:00.000</td>\n",
       "      <td>40002</td>\n",
       "      <td>UTC+0200</td>\n",
       "      <td>2020-09-01 23:43:00.000</td>\n",
       "      <td>2020-09-01</td>\n",
       "      <td>23:33:00</td>\n",
       "      <td>2020-09-01</td>\n",
       "      <td>23:43:00</td>\n",
       "      <td>Light</td>\n",
       "    </tr>\n",
       "  </tbody>\n",
       "</table>\n",
       "</div>"
      ],
      "text/plain": [
       "                start_time  stage time_offset                 end_time  \\\n",
       "0  2020-09-01 23:22:00.000  40001    UTC+0200  2020-09-01 23:26:00.000   \n",
       "1  2020-09-01 23:26:00.000  40003    UTC+0200  2020-09-01 23:29:00.000   \n",
       "2  2020-09-01 23:29:00.000  40002    UTC+0200  2020-09-01 23:30:00.000   \n",
       "3  2020-09-01 23:30:00.000  40003    UTC+0200  2020-09-01 23:33:00.000   \n",
       "4  2020-09-01 23:33:00.000  40002    UTC+0200  2020-09-01 23:43:00.000   \n",
       "\n",
       "  start_time_date start_time_hour end_time_date end_time_hour stage_of_sleep  \n",
       "0      2020-09-01        23:22:00    2020-09-01      23:26:00         Awaken  \n",
       "1      2020-09-01        23:26:00    2020-09-01      23:29:00           Deep  \n",
       "2      2020-09-01        23:29:00    2020-09-01      23:30:00          Light  \n",
       "3      2020-09-01        23:30:00    2020-09-01      23:33:00           Deep  \n",
       "4      2020-09-01        23:33:00    2020-09-01      23:43:00          Light  "
      ]
     },
     "execution_count": 13,
     "metadata": {},
     "output_type": "execute_result"
    }
   ],
   "source": [
    "sleep_data.head()"
   ]
  },
  {
   "cell_type": "code",
   "execution_count": 14,
   "metadata": {},
   "outputs": [],
   "source": [
    "sleep_data.drop(['start_time','stage','time_offset','end_time'], axis=1, inplace=True)"
   ]
  },
  {
   "cell_type": "code",
   "execution_count": 15,
   "metadata": {},
   "outputs": [
    {
     "data": {
      "text/html": [
       "<div>\n",
       "<style scoped>\n",
       "    .dataframe tbody tr th:only-of-type {\n",
       "        vertical-align: middle;\n",
       "    }\n",
       "\n",
       "    .dataframe tbody tr th {\n",
       "        vertical-align: top;\n",
       "    }\n",
       "\n",
       "    .dataframe thead th {\n",
       "        text-align: right;\n",
       "    }\n",
       "</style>\n",
       "<table border=\"1\" class=\"dataframe\">\n",
       "  <thead>\n",
       "    <tr style=\"text-align: right;\">\n",
       "      <th></th>\n",
       "      <th>start_time_date</th>\n",
       "      <th>start_time_hour</th>\n",
       "      <th>end_time_date</th>\n",
       "      <th>end_time_hour</th>\n",
       "      <th>stage_of_sleep</th>\n",
       "    </tr>\n",
       "  </thead>\n",
       "  <tbody>\n",
       "    <tr>\n",
       "      <td>0</td>\n",
       "      <td>2020-09-01</td>\n",
       "      <td>23:22:00</td>\n",
       "      <td>2020-09-01</td>\n",
       "      <td>23:26:00</td>\n",
       "      <td>Awaken</td>\n",
       "    </tr>\n",
       "    <tr>\n",
       "      <td>1</td>\n",
       "      <td>2020-09-01</td>\n",
       "      <td>23:26:00</td>\n",
       "      <td>2020-09-01</td>\n",
       "      <td>23:29:00</td>\n",
       "      <td>Deep</td>\n",
       "    </tr>\n",
       "    <tr>\n",
       "      <td>2</td>\n",
       "      <td>2020-09-01</td>\n",
       "      <td>23:29:00</td>\n",
       "      <td>2020-09-01</td>\n",
       "      <td>23:30:00</td>\n",
       "      <td>Light</td>\n",
       "    </tr>\n",
       "    <tr>\n",
       "      <td>3</td>\n",
       "      <td>2020-09-01</td>\n",
       "      <td>23:30:00</td>\n",
       "      <td>2020-09-01</td>\n",
       "      <td>23:33:00</td>\n",
       "      <td>Deep</td>\n",
       "    </tr>\n",
       "    <tr>\n",
       "      <td>4</td>\n",
       "      <td>2020-09-01</td>\n",
       "      <td>23:33:00</td>\n",
       "      <td>2020-09-01</td>\n",
       "      <td>23:43:00</td>\n",
       "      <td>Light</td>\n",
       "    </tr>\n",
       "  </tbody>\n",
       "</table>\n",
       "</div>"
      ],
      "text/plain": [
       "  start_time_date start_time_hour end_time_date end_time_hour stage_of_sleep\n",
       "0      2020-09-01        23:22:00    2020-09-01      23:26:00         Awaken\n",
       "1      2020-09-01        23:26:00    2020-09-01      23:29:00           Deep\n",
       "2      2020-09-01        23:29:00    2020-09-01      23:30:00          Light\n",
       "3      2020-09-01        23:30:00    2020-09-01      23:33:00           Deep\n",
       "4      2020-09-01        23:33:00    2020-09-01      23:43:00          Light"
      ]
     },
     "execution_count": 15,
     "metadata": {},
     "output_type": "execute_result"
    }
   ],
   "source": [
    "sleep_data.head()"
   ]
  },
  {
   "cell_type": "code",
   "execution_count": 16,
   "metadata": {},
   "outputs": [],
   "source": [
    "#Dates and hours are strings. I need to find a way to translate them into time values. I want to create a new\n",
    "#column \"Duration\" to calculate the duration of each sleeping phase."
   ]
  },
  {
   "cell_type": "code",
   "execution_count": 17,
   "metadata": {},
   "outputs": [
    {
     "name": "stderr",
     "output_type": "stream",
     "text": [
      "/Users/salim/opt/anaconda3/lib/python3.7/site-packages/pandas/core/indexing.py:205: SettingWithCopyWarning: \n",
      "A value is trying to be set on a copy of a slice from a DataFrame\n",
      "\n",
      "See the caveats in the documentation: http://pandas.pydata.org/pandas-docs/stable/user_guide/indexing.html#returning-a-view-versus-a-copy\n",
      "  self._setitem_with_indexer(indexer, value)\n"
     ]
    }
   ],
   "source": [
    "sleep_data['Duration'] = 0\n",
    "\n",
    "for i in range(0,len(sleep_data)):\n",
    "    sleep_data['Duration'].loc[i] = str((datetime.datetime.strptime(sleep_data['end_time_hour'].loc[i], '%H:%M:%S') - datetime.datetime.strptime(sleep_data['start_time_hour'].loc[i], '%H:%M:%S')))\n",
    "    if sleep_data['Duration'].loc[i].find('day')!=-1:\n",
    "        sleep_data['Duration'].loc[i] = sleep_data['Duration'].loc[i].split(', ')[1]\n",
    "sleep_data['Duration'] = pd.to_timedelta(sleep_data['Duration'],errors='ignore')"
   ]
  },
  {
   "cell_type": "code",
   "execution_count": 18,
   "metadata": {},
   "outputs": [
    {
     "data": {
      "text/html": [
       "<div>\n",
       "<style scoped>\n",
       "    .dataframe tbody tr th:only-of-type {\n",
       "        vertical-align: middle;\n",
       "    }\n",
       "\n",
       "    .dataframe tbody tr th {\n",
       "        vertical-align: top;\n",
       "    }\n",
       "\n",
       "    .dataframe thead th {\n",
       "        text-align: right;\n",
       "    }\n",
       "</style>\n",
       "<table border=\"1\" class=\"dataframe\">\n",
       "  <thead>\n",
       "    <tr style=\"text-align: right;\">\n",
       "      <th></th>\n",
       "      <th>start_time_date</th>\n",
       "      <th>start_time_hour</th>\n",
       "      <th>end_time_date</th>\n",
       "      <th>end_time_hour</th>\n",
       "      <th>stage_of_sleep</th>\n",
       "      <th>Duration</th>\n",
       "    </tr>\n",
       "  </thead>\n",
       "  <tbody>\n",
       "    <tr>\n",
       "      <td>0</td>\n",
       "      <td>2020-09-01</td>\n",
       "      <td>23:22:00</td>\n",
       "      <td>2020-09-01</td>\n",
       "      <td>23:26:00</td>\n",
       "      <td>Awaken</td>\n",
       "      <td>00:04:00</td>\n",
       "    </tr>\n",
       "    <tr>\n",
       "      <td>1</td>\n",
       "      <td>2020-09-01</td>\n",
       "      <td>23:26:00</td>\n",
       "      <td>2020-09-01</td>\n",
       "      <td>23:29:00</td>\n",
       "      <td>Deep</td>\n",
       "      <td>00:03:00</td>\n",
       "    </tr>\n",
       "    <tr>\n",
       "      <td>2</td>\n",
       "      <td>2020-09-01</td>\n",
       "      <td>23:29:00</td>\n",
       "      <td>2020-09-01</td>\n",
       "      <td>23:30:00</td>\n",
       "      <td>Light</td>\n",
       "      <td>00:01:00</td>\n",
       "    </tr>\n",
       "    <tr>\n",
       "      <td>3</td>\n",
       "      <td>2020-09-01</td>\n",
       "      <td>23:30:00</td>\n",
       "      <td>2020-09-01</td>\n",
       "      <td>23:33:00</td>\n",
       "      <td>Deep</td>\n",
       "      <td>00:03:00</td>\n",
       "    </tr>\n",
       "    <tr>\n",
       "      <td>4</td>\n",
       "      <td>2020-09-01</td>\n",
       "      <td>23:33:00</td>\n",
       "      <td>2020-09-01</td>\n",
       "      <td>23:43:00</td>\n",
       "      <td>Light</td>\n",
       "      <td>00:10:00</td>\n",
       "    </tr>\n",
       "  </tbody>\n",
       "</table>\n",
       "</div>"
      ],
      "text/plain": [
       "  start_time_date start_time_hour end_time_date end_time_hour stage_of_sleep  \\\n",
       "0      2020-09-01        23:22:00    2020-09-01      23:26:00         Awaken   \n",
       "1      2020-09-01        23:26:00    2020-09-01      23:29:00           Deep   \n",
       "2      2020-09-01        23:29:00    2020-09-01      23:30:00          Light   \n",
       "3      2020-09-01        23:30:00    2020-09-01      23:33:00           Deep   \n",
       "4      2020-09-01        23:33:00    2020-09-01      23:43:00          Light   \n",
       "\n",
       "  Duration  \n",
       "0 00:04:00  \n",
       "1 00:03:00  \n",
       "2 00:01:00  \n",
       "3 00:03:00  \n",
       "4 00:10:00  "
      ]
     },
     "execution_count": 18,
     "metadata": {},
     "output_type": "execute_result"
    }
   ],
   "source": [
    "sleep_data.head()"
   ]
  },
  {
   "cell_type": "code",
   "execution_count": 19,
   "metadata": {},
   "outputs": [],
   "source": [
    "sleep_data['start_time_date_reworked']=0\n",
    "for i in range(0, len(sleep_data)):\n",
    "    if sleep_data['start_time_hour'].loc[i]>'21:00:00':\n",
    "        sleep_data['start_time_date_reworked'].loc[i] = datetime.datetime.strptime(sleep_data['start_time_date'].loc[i], '%Y-%m-%d')\n",
    "    elif sleep_data['start_time_hour'].loc[i] < '13:00:00':\n",
    "        sleep_data['start_time_date_reworked'].loc[i] = datetime.datetime.strptime(sleep_data['start_time_date'].loc[i], '%Y-%m-%d') - datetime.timedelta(days=1)\n",
    "    elif sleep_data['start_time_hour'].loc[i] >= '13:00:00' and sleep_data['start_time_hour'].loc[i] <= '21:00:00':\n",
    "        sleep_data.drop(i,inplace=True)\n",
    "    else:\n",
    "        sleep_data['start_time_date_reworked'].loc[i] = datetime.datetime.strptime(sleep_data['start_time_date'].loc[i], '%Y-%m-%d')"
   ]
  },
  {
   "cell_type": "code",
   "execution_count": 20,
   "metadata": {},
   "outputs": [
    {
     "data": {
      "text/html": [
       "<div>\n",
       "<style scoped>\n",
       "    .dataframe tbody tr th:only-of-type {\n",
       "        vertical-align: middle;\n",
       "    }\n",
       "\n",
       "    .dataframe tbody tr th {\n",
       "        vertical-align: top;\n",
       "    }\n",
       "\n",
       "    .dataframe thead th {\n",
       "        text-align: right;\n",
       "    }\n",
       "</style>\n",
       "<table border=\"1\" class=\"dataframe\">\n",
       "  <thead>\n",
       "    <tr style=\"text-align: right;\">\n",
       "      <th></th>\n",
       "      <th>start_time_date</th>\n",
       "      <th>start_time_hour</th>\n",
       "      <th>end_time_date</th>\n",
       "      <th>end_time_hour</th>\n",
       "      <th>stage_of_sleep</th>\n",
       "      <th>Duration</th>\n",
       "      <th>start_time_date_reworked</th>\n",
       "    </tr>\n",
       "  </thead>\n",
       "  <tbody>\n",
       "    <tr>\n",
       "      <td>0</td>\n",
       "      <td>2020-09-01</td>\n",
       "      <td>23:22:00</td>\n",
       "      <td>2020-09-01</td>\n",
       "      <td>23:26:00</td>\n",
       "      <td>Awaken</td>\n",
       "      <td>00:04:00</td>\n",
       "      <td>2020-09-01 00:00:00</td>\n",
       "    </tr>\n",
       "    <tr>\n",
       "      <td>1</td>\n",
       "      <td>2020-09-01</td>\n",
       "      <td>23:26:00</td>\n",
       "      <td>2020-09-01</td>\n",
       "      <td>23:29:00</td>\n",
       "      <td>Deep</td>\n",
       "      <td>00:03:00</td>\n",
       "      <td>2020-09-01 00:00:00</td>\n",
       "    </tr>\n",
       "    <tr>\n",
       "      <td>2</td>\n",
       "      <td>2020-09-01</td>\n",
       "      <td>23:29:00</td>\n",
       "      <td>2020-09-01</td>\n",
       "      <td>23:30:00</td>\n",
       "      <td>Light</td>\n",
       "      <td>00:01:00</td>\n",
       "      <td>2020-09-01 00:00:00</td>\n",
       "    </tr>\n",
       "    <tr>\n",
       "      <td>3</td>\n",
       "      <td>2020-09-01</td>\n",
       "      <td>23:30:00</td>\n",
       "      <td>2020-09-01</td>\n",
       "      <td>23:33:00</td>\n",
       "      <td>Deep</td>\n",
       "      <td>00:03:00</td>\n",
       "      <td>2020-09-01 00:00:00</td>\n",
       "    </tr>\n",
       "    <tr>\n",
       "      <td>4</td>\n",
       "      <td>2020-09-01</td>\n",
       "      <td>23:33:00</td>\n",
       "      <td>2020-09-01</td>\n",
       "      <td>23:43:00</td>\n",
       "      <td>Light</td>\n",
       "      <td>00:10:00</td>\n",
       "      <td>2020-09-01 00:00:00</td>\n",
       "    </tr>\n",
       "    <tr>\n",
       "      <td>...</td>\n",
       "      <td>...</td>\n",
       "      <td>...</td>\n",
       "      <td>...</td>\n",
       "      <td>...</td>\n",
       "      <td>...</td>\n",
       "      <td>...</td>\n",
       "      <td>...</td>\n",
       "    </tr>\n",
       "    <tr>\n",
       "      <td>12456</td>\n",
       "      <td>2021-02-09</td>\n",
       "      <td>07:48:00</td>\n",
       "      <td>2021-02-09</td>\n",
       "      <td>07:49:00</td>\n",
       "      <td>Awaken</td>\n",
       "      <td>00:01:00</td>\n",
       "      <td>2021-02-08 00:00:00</td>\n",
       "    </tr>\n",
       "    <tr>\n",
       "      <td>12457</td>\n",
       "      <td>2021-02-09</td>\n",
       "      <td>07:49:00</td>\n",
       "      <td>2021-02-09</td>\n",
       "      <td>07:52:00</td>\n",
       "      <td>Light</td>\n",
       "      <td>00:03:00</td>\n",
       "      <td>2021-02-08 00:00:00</td>\n",
       "    </tr>\n",
       "    <tr>\n",
       "      <td>12458</td>\n",
       "      <td>2021-02-09</td>\n",
       "      <td>07:52:00</td>\n",
       "      <td>2021-02-09</td>\n",
       "      <td>07:54:00</td>\n",
       "      <td>Awaken</td>\n",
       "      <td>00:02:00</td>\n",
       "      <td>2021-02-08 00:00:00</td>\n",
       "    </tr>\n",
       "    <tr>\n",
       "      <td>12459</td>\n",
       "      <td>2021-02-09</td>\n",
       "      <td>07:54:00</td>\n",
       "      <td>2021-02-09</td>\n",
       "      <td>07:58:00</td>\n",
       "      <td>Light</td>\n",
       "      <td>00:04:00</td>\n",
       "      <td>2021-02-08 00:00:00</td>\n",
       "    </tr>\n",
       "    <tr>\n",
       "      <td>12460</td>\n",
       "      <td>2021-02-09</td>\n",
       "      <td>07:58:00</td>\n",
       "      <td>2021-02-09</td>\n",
       "      <td>08:04:00</td>\n",
       "      <td>Awaken</td>\n",
       "      <td>00:06:00</td>\n",
       "      <td>2021-02-08 00:00:00</td>\n",
       "    </tr>\n",
       "  </tbody>\n",
       "</table>\n",
       "<p>12131 rows × 7 columns</p>\n",
       "</div>"
      ],
      "text/plain": [
       "      start_time_date start_time_hour end_time_date end_time_hour  \\\n",
       "0          2020-09-01        23:22:00    2020-09-01      23:26:00   \n",
       "1          2020-09-01        23:26:00    2020-09-01      23:29:00   \n",
       "2          2020-09-01        23:29:00    2020-09-01      23:30:00   \n",
       "3          2020-09-01        23:30:00    2020-09-01      23:33:00   \n",
       "4          2020-09-01        23:33:00    2020-09-01      23:43:00   \n",
       "...               ...             ...           ...           ...   \n",
       "12456      2021-02-09        07:48:00    2021-02-09      07:49:00   \n",
       "12457      2021-02-09        07:49:00    2021-02-09      07:52:00   \n",
       "12458      2021-02-09        07:52:00    2021-02-09      07:54:00   \n",
       "12459      2021-02-09        07:54:00    2021-02-09      07:58:00   \n",
       "12460      2021-02-09        07:58:00    2021-02-09      08:04:00   \n",
       "\n",
       "      stage_of_sleep Duration start_time_date_reworked  \n",
       "0             Awaken 00:04:00      2020-09-01 00:00:00  \n",
       "1               Deep 00:03:00      2020-09-01 00:00:00  \n",
       "2              Light 00:01:00      2020-09-01 00:00:00  \n",
       "3               Deep 00:03:00      2020-09-01 00:00:00  \n",
       "4              Light 00:10:00      2020-09-01 00:00:00  \n",
       "...              ...      ...                      ...  \n",
       "12456         Awaken 00:01:00      2021-02-08 00:00:00  \n",
       "12457          Light 00:03:00      2021-02-08 00:00:00  \n",
       "12458         Awaken 00:02:00      2021-02-08 00:00:00  \n",
       "12459          Light 00:04:00      2021-02-08 00:00:00  \n",
       "12460         Awaken 00:06:00      2021-02-08 00:00:00  \n",
       "\n",
       "[12131 rows x 7 columns]"
      ]
     },
     "execution_count": 20,
     "metadata": {},
     "output_type": "execute_result"
    }
   ],
   "source": [
    "#pd.set_option('display.max_rows', len(sleep_data))\n",
    "\n",
    "sleep_data"
   ]
  },
  {
   "cell_type": "code",
   "execution_count": 21,
   "metadata": {},
   "outputs": [
    {
     "data": {
      "text/html": [
       "<div>\n",
       "<style scoped>\n",
       "    .dataframe tbody tr th:only-of-type {\n",
       "        vertical-align: middle;\n",
       "    }\n",
       "\n",
       "    .dataframe tbody tr th {\n",
       "        vertical-align: top;\n",
       "    }\n",
       "\n",
       "    .dataframe thead th {\n",
       "        text-align: right;\n",
       "    }\n",
       "</style>\n",
       "<table border=\"1\" class=\"dataframe\">\n",
       "  <thead>\n",
       "    <tr style=\"text-align: right;\">\n",
       "      <th></th>\n",
       "      <th>start_time_date</th>\n",
       "      <th>start_time_hour</th>\n",
       "      <th>end_time_date</th>\n",
       "      <th>end_time_hour</th>\n",
       "      <th>stage_of_sleep</th>\n",
       "      <th>Duration</th>\n",
       "      <th>start_time_date_reworked</th>\n",
       "    </tr>\n",
       "  </thead>\n",
       "  <tbody>\n",
       "    <tr>\n",
       "      <td>0</td>\n",
       "      <td>2020-09-01</td>\n",
       "      <td>23:22:00</td>\n",
       "      <td>2020-09-01</td>\n",
       "      <td>23:26:00</td>\n",
       "      <td>Awaken</td>\n",
       "      <td>00:04:00</td>\n",
       "      <td>2020-09-01 00:00:00</td>\n",
       "    </tr>\n",
       "    <tr>\n",
       "      <td>1</td>\n",
       "      <td>2020-09-01</td>\n",
       "      <td>23:26:00</td>\n",
       "      <td>2020-09-01</td>\n",
       "      <td>23:29:00</td>\n",
       "      <td>Deep</td>\n",
       "      <td>00:03:00</td>\n",
       "      <td>2020-09-01 00:00:00</td>\n",
       "    </tr>\n",
       "    <tr>\n",
       "      <td>2</td>\n",
       "      <td>2020-09-01</td>\n",
       "      <td>23:29:00</td>\n",
       "      <td>2020-09-01</td>\n",
       "      <td>23:30:00</td>\n",
       "      <td>Light</td>\n",
       "      <td>00:01:00</td>\n",
       "      <td>2020-09-01 00:00:00</td>\n",
       "    </tr>\n",
       "    <tr>\n",
       "      <td>3</td>\n",
       "      <td>2020-09-01</td>\n",
       "      <td>23:30:00</td>\n",
       "      <td>2020-09-01</td>\n",
       "      <td>23:33:00</td>\n",
       "      <td>Deep</td>\n",
       "      <td>00:03:00</td>\n",
       "      <td>2020-09-01 00:00:00</td>\n",
       "    </tr>\n",
       "    <tr>\n",
       "      <td>4</td>\n",
       "      <td>2020-09-01</td>\n",
       "      <td>23:33:00</td>\n",
       "      <td>2020-09-01</td>\n",
       "      <td>23:43:00</td>\n",
       "      <td>Light</td>\n",
       "      <td>00:10:00</td>\n",
       "      <td>2020-09-01 00:00:00</td>\n",
       "    </tr>\n",
       "  </tbody>\n",
       "</table>\n",
       "</div>"
      ],
      "text/plain": [
       "  start_time_date start_time_hour end_time_date end_time_hour stage_of_sleep  \\\n",
       "0      2020-09-01        23:22:00    2020-09-01      23:26:00         Awaken   \n",
       "1      2020-09-01        23:26:00    2020-09-01      23:29:00           Deep   \n",
       "2      2020-09-01        23:29:00    2020-09-01      23:30:00          Light   \n",
       "3      2020-09-01        23:30:00    2020-09-01      23:33:00           Deep   \n",
       "4      2020-09-01        23:33:00    2020-09-01      23:43:00          Light   \n",
       "\n",
       "  Duration start_time_date_reworked  \n",
       "0 00:04:00      2020-09-01 00:00:00  \n",
       "1 00:03:00      2020-09-01 00:00:00  \n",
       "2 00:01:00      2020-09-01 00:00:00  \n",
       "3 00:03:00      2020-09-01 00:00:00  \n",
       "4 00:10:00      2020-09-01 00:00:00  "
      ]
     },
     "execution_count": 21,
     "metadata": {},
     "output_type": "execute_result"
    }
   ],
   "source": [
    "sleep_data.head()"
   ]
  },
  {
   "cell_type": "code",
   "execution_count": 22,
   "metadata": {},
   "outputs": [],
   "source": [
    "sleep_data_gb = sleep_data[['start_time_date_reworked','stage_of_sleep','Duration']]"
   ]
  },
  {
   "cell_type": "code",
   "execution_count": 23,
   "metadata": {},
   "outputs": [
    {
     "data": {
      "text/html": [
       "<div>\n",
       "<style scoped>\n",
       "    .dataframe tbody tr th:only-of-type {\n",
       "        vertical-align: middle;\n",
       "    }\n",
       "\n",
       "    .dataframe tbody tr th {\n",
       "        vertical-align: top;\n",
       "    }\n",
       "\n",
       "    .dataframe thead th {\n",
       "        text-align: right;\n",
       "    }\n",
       "</style>\n",
       "<table border=\"1\" class=\"dataframe\">\n",
       "  <thead>\n",
       "    <tr style=\"text-align: right;\">\n",
       "      <th></th>\n",
       "      <th>start_time_date_reworked</th>\n",
       "      <th>stage_of_sleep</th>\n",
       "      <th>Duration</th>\n",
       "    </tr>\n",
       "  </thead>\n",
       "  <tbody>\n",
       "    <tr>\n",
       "      <td>0</td>\n",
       "      <td>2020-09-01 00:00:00</td>\n",
       "      <td>Awaken</td>\n",
       "      <td>00:04:00</td>\n",
       "    </tr>\n",
       "    <tr>\n",
       "      <td>1</td>\n",
       "      <td>2020-09-01 00:00:00</td>\n",
       "      <td>Deep</td>\n",
       "      <td>00:03:00</td>\n",
       "    </tr>\n",
       "    <tr>\n",
       "      <td>2</td>\n",
       "      <td>2020-09-01 00:00:00</td>\n",
       "      <td>Light</td>\n",
       "      <td>00:01:00</td>\n",
       "    </tr>\n",
       "    <tr>\n",
       "      <td>3</td>\n",
       "      <td>2020-09-01 00:00:00</td>\n",
       "      <td>Deep</td>\n",
       "      <td>00:03:00</td>\n",
       "    </tr>\n",
       "    <tr>\n",
       "      <td>4</td>\n",
       "      <td>2020-09-01 00:00:00</td>\n",
       "      <td>Light</td>\n",
       "      <td>00:10:00</td>\n",
       "    </tr>\n",
       "  </tbody>\n",
       "</table>\n",
       "</div>"
      ],
      "text/plain": [
       "  start_time_date_reworked stage_of_sleep Duration\n",
       "0      2020-09-01 00:00:00         Awaken 00:04:00\n",
       "1      2020-09-01 00:00:00           Deep 00:03:00\n",
       "2      2020-09-01 00:00:00          Light 00:01:00\n",
       "3      2020-09-01 00:00:00           Deep 00:03:00\n",
       "4      2020-09-01 00:00:00          Light 00:10:00"
      ]
     },
     "execution_count": 23,
     "metadata": {},
     "output_type": "execute_result"
    }
   ],
   "source": [
    "sleep_data_gb.head()"
   ]
  },
  {
   "cell_type": "code",
   "execution_count": 24,
   "metadata": {},
   "outputs": [
    {
     "name": "stderr",
     "output_type": "stream",
     "text": [
      "/Users/salim/opt/anaconda3/lib/python3.7/site-packages/ipykernel_launcher.py:6: FutureWarning: Passing integers to fillna is deprecated, will raise a TypeError in a future version.  To retain the old behavior, pass pd.Timedelta(seconds=n) instead.\n",
      "  \n"
     ]
    }
   ],
   "source": [
    "sleep_data_final = sleep_data_gb.groupby(['start_time_date_reworked','stage_of_sleep']).sum().unstack().reset_index()\n",
    "sleep_data_final.columns = sleep_data_final.columns.get_level_values(1)\n",
    "sleep_data_final = pd.DataFrame(sleep_data_final)\n",
    "sleep_data_final.columns = ['Date','Awaken','Deep','Light','REM']\n",
    "#sleep_data_final.replace('NaT',0,inplace=True)\n",
    "sleep_data_final.fillna(0,inplace=True)"
   ]
  },
  {
   "cell_type": "code",
   "execution_count": 25,
   "metadata": {},
   "outputs": [],
   "source": [
    "sleep_data_final['Total'] = sleep_data_final['Awaken']+sleep_data_final['Deep']+sleep_data_final['Light']+sleep_data_final['REM']"
   ]
  },
  {
   "cell_type": "code",
   "execution_count": 26,
   "metadata": {},
   "outputs": [
    {
     "data": {
      "text/html": [
       "<div>\n",
       "<style scoped>\n",
       "    .dataframe tbody tr th:only-of-type {\n",
       "        vertical-align: middle;\n",
       "    }\n",
       "\n",
       "    .dataframe tbody tr th {\n",
       "        vertical-align: top;\n",
       "    }\n",
       "\n",
       "    .dataframe thead th {\n",
       "        text-align: right;\n",
       "    }\n",
       "</style>\n",
       "<table border=\"1\" class=\"dataframe\">\n",
       "  <thead>\n",
       "    <tr style=\"text-align: right;\">\n",
       "      <th></th>\n",
       "      <th>Date</th>\n",
       "      <th>Awaken</th>\n",
       "      <th>Deep</th>\n",
       "      <th>Light</th>\n",
       "      <th>REM</th>\n",
       "      <th>Total</th>\n",
       "    </tr>\n",
       "  </thead>\n",
       "  <tbody>\n",
       "    <tr>\n",
       "      <td>0</td>\n",
       "      <td>2020-09-01</td>\n",
       "      <td>00:45:00</td>\n",
       "      <td>00:42:00</td>\n",
       "      <td>04:52:00</td>\n",
       "      <td>01:46:00</td>\n",
       "      <td>08:05:00</td>\n",
       "    </tr>\n",
       "    <tr>\n",
       "      <td>1</td>\n",
       "      <td>2020-09-02</td>\n",
       "      <td>00:55:00</td>\n",
       "      <td>00:47:00</td>\n",
       "      <td>05:28:00</td>\n",
       "      <td>00:57:00</td>\n",
       "      <td>08:07:00</td>\n",
       "    </tr>\n",
       "    <tr>\n",
       "      <td>2</td>\n",
       "      <td>2020-09-03</td>\n",
       "      <td>00:32:00</td>\n",
       "      <td>00:49:00</td>\n",
       "      <td>02:52:00</td>\n",
       "      <td>01:34:00</td>\n",
       "      <td>05:47:00</td>\n",
       "    </tr>\n",
       "    <tr>\n",
       "      <td>3</td>\n",
       "      <td>2020-09-04</td>\n",
       "      <td>00:27:00</td>\n",
       "      <td>01:04:00</td>\n",
       "      <td>04:40:00</td>\n",
       "      <td>02:40:00</td>\n",
       "      <td>08:51:00</td>\n",
       "    </tr>\n",
       "    <tr>\n",
       "      <td>4</td>\n",
       "      <td>2020-09-05</td>\n",
       "      <td>00:38:00</td>\n",
       "      <td>00:46:00</td>\n",
       "      <td>06:05:00</td>\n",
       "      <td>01:07:00</td>\n",
       "      <td>08:36:00</td>\n",
       "    </tr>\n",
       "  </tbody>\n",
       "</table>\n",
       "</div>"
      ],
      "text/plain": [
       "        Date   Awaken     Deep    Light      REM    Total\n",
       "0 2020-09-01 00:45:00 00:42:00 04:52:00 01:46:00 08:05:00\n",
       "1 2020-09-02 00:55:00 00:47:00 05:28:00 00:57:00 08:07:00\n",
       "2 2020-09-03 00:32:00 00:49:00 02:52:00 01:34:00 05:47:00\n",
       "3 2020-09-04 00:27:00 01:04:00 04:40:00 02:40:00 08:51:00\n",
       "4 2020-09-05 00:38:00 00:46:00 06:05:00 01:07:00 08:36:00"
      ]
     },
     "execution_count": 26,
     "metadata": {},
     "output_type": "execute_result"
    }
   ],
   "source": [
    "sleep_data_final.head()"
   ]
  },
  {
   "cell_type": "code",
   "execution_count": 27,
   "metadata": {},
   "outputs": [],
   "source": [
    "sleep_data_final['Weekend'] = 0\n",
    "for i in range(0, len(sleep_data_final)):\n",
    "    if datetime.date.weekday(sleep_data_final['Date'].loc[i]) < 5:\n",
    "        sleep_data_final['Weekend'].loc[i] = 0\n",
    "    else:\n",
    "        sleep_data_final['Weekend'].loc[i] = 1"
   ]
  },
  {
   "cell_type": "markdown",
   "metadata": {},
   "source": [
    "**Weekend = 0 =>** *Monday, Tuesday, Wednesday, Thursday, Friday*\n",
    "\n",
    "**Weekend = 1 =>** *Saturday, Sunday*"
   ]
  },
  {
   "cell_type": "code",
   "execution_count": 28,
   "metadata": {},
   "outputs": [
    {
     "data": {
      "text/html": [
       "<div>\n",
       "<style scoped>\n",
       "    .dataframe tbody tr th:only-of-type {\n",
       "        vertical-align: middle;\n",
       "    }\n",
       "\n",
       "    .dataframe tbody tr th {\n",
       "        vertical-align: top;\n",
       "    }\n",
       "\n",
       "    .dataframe thead th {\n",
       "        text-align: right;\n",
       "    }\n",
       "</style>\n",
       "<table border=\"1\" class=\"dataframe\">\n",
       "  <thead>\n",
       "    <tr style=\"text-align: right;\">\n",
       "      <th></th>\n",
       "      <th>Date</th>\n",
       "      <th>Awaken</th>\n",
       "      <th>Deep</th>\n",
       "      <th>Light</th>\n",
       "      <th>REM</th>\n",
       "      <th>Total</th>\n",
       "      <th>Weekend</th>\n",
       "    </tr>\n",
       "  </thead>\n",
       "  <tbody>\n",
       "    <tr>\n",
       "      <td>0</td>\n",
       "      <td>2020-09-01</td>\n",
       "      <td>00:45:00</td>\n",
       "      <td>00:42:00</td>\n",
       "      <td>04:52:00</td>\n",
       "      <td>01:46:00</td>\n",
       "      <td>08:05:00</td>\n",
       "      <td>0</td>\n",
       "    </tr>\n",
       "    <tr>\n",
       "      <td>1</td>\n",
       "      <td>2020-09-02</td>\n",
       "      <td>00:55:00</td>\n",
       "      <td>00:47:00</td>\n",
       "      <td>05:28:00</td>\n",
       "      <td>00:57:00</td>\n",
       "      <td>08:07:00</td>\n",
       "      <td>0</td>\n",
       "    </tr>\n",
       "    <tr>\n",
       "      <td>2</td>\n",
       "      <td>2020-09-03</td>\n",
       "      <td>00:32:00</td>\n",
       "      <td>00:49:00</td>\n",
       "      <td>02:52:00</td>\n",
       "      <td>01:34:00</td>\n",
       "      <td>05:47:00</td>\n",
       "      <td>0</td>\n",
       "    </tr>\n",
       "    <tr>\n",
       "      <td>3</td>\n",
       "      <td>2020-09-04</td>\n",
       "      <td>00:27:00</td>\n",
       "      <td>01:04:00</td>\n",
       "      <td>04:40:00</td>\n",
       "      <td>02:40:00</td>\n",
       "      <td>08:51:00</td>\n",
       "      <td>0</td>\n",
       "    </tr>\n",
       "    <tr>\n",
       "      <td>4</td>\n",
       "      <td>2020-09-05</td>\n",
       "      <td>00:38:00</td>\n",
       "      <td>00:46:00</td>\n",
       "      <td>06:05:00</td>\n",
       "      <td>01:07:00</td>\n",
       "      <td>08:36:00</td>\n",
       "      <td>1</td>\n",
       "    </tr>\n",
       "  </tbody>\n",
       "</table>\n",
       "</div>"
      ],
      "text/plain": [
       "        Date   Awaken     Deep    Light      REM    Total  Weekend\n",
       "0 2020-09-01 00:45:00 00:42:00 04:52:00 01:46:00 08:05:00        0\n",
       "1 2020-09-02 00:55:00 00:47:00 05:28:00 00:57:00 08:07:00        0\n",
       "2 2020-09-03 00:32:00 00:49:00 02:52:00 01:34:00 05:47:00        0\n",
       "3 2020-09-04 00:27:00 01:04:00 04:40:00 02:40:00 08:51:00        0\n",
       "4 2020-09-05 00:38:00 00:46:00 06:05:00 01:07:00 08:36:00        1"
      ]
     },
     "execution_count": 28,
     "metadata": {},
     "output_type": "execute_result"
    }
   ],
   "source": [
    "sleep_data_final.head()"
   ]
  },
  {
   "cell_type": "code",
   "execution_count": 29,
   "metadata": {},
   "outputs": [
    {
     "data": {
      "text/html": [
       "<div>\n",
       "<style scoped>\n",
       "    .dataframe tbody tr th:only-of-type {\n",
       "        vertical-align: middle;\n",
       "    }\n",
       "\n",
       "    .dataframe tbody tr th {\n",
       "        vertical-align: top;\n",
       "    }\n",
       "\n",
       "    .dataframe thead th {\n",
       "        text-align: right;\n",
       "    }\n",
       "</style>\n",
       "<table border=\"1\" class=\"dataframe\">\n",
       "  <thead>\n",
       "    <tr style=\"text-align: right;\">\n",
       "      <th></th>\n",
       "      <th>Date</th>\n",
       "      <th>Awaken</th>\n",
       "      <th>Deep</th>\n",
       "      <th>Light</th>\n",
       "      <th>REM</th>\n",
       "      <th>Total</th>\n",
       "      <th>Weekend</th>\n",
       "    </tr>\n",
       "  </thead>\n",
       "  <tbody>\n",
       "    <tr>\n",
       "      <td>155</td>\n",
       "      <td>2021-02-04</td>\n",
       "      <td>01:33:00</td>\n",
       "      <td>00:41:00</td>\n",
       "      <td>06:00:00</td>\n",
       "      <td>00:44:00</td>\n",
       "      <td>08:58:00</td>\n",
       "      <td>0</td>\n",
       "    </tr>\n",
       "    <tr>\n",
       "      <td>156</td>\n",
       "      <td>2021-02-05</td>\n",
       "      <td>01:03:00</td>\n",
       "      <td>00:39:00</td>\n",
       "      <td>05:24:00</td>\n",
       "      <td>01:14:00</td>\n",
       "      <td>08:20:00</td>\n",
       "      <td>0</td>\n",
       "    </tr>\n",
       "    <tr>\n",
       "      <td>157</td>\n",
       "      <td>2021-02-06</td>\n",
       "      <td>00:53:00</td>\n",
       "      <td>00:40:00</td>\n",
       "      <td>04:06:00</td>\n",
       "      <td>01:41:00</td>\n",
       "      <td>07:20:00</td>\n",
       "      <td>1</td>\n",
       "    </tr>\n",
       "    <tr>\n",
       "      <td>158</td>\n",
       "      <td>2021-02-07</td>\n",
       "      <td>01:24:00</td>\n",
       "      <td>00:45:00</td>\n",
       "      <td>02:35:00</td>\n",
       "      <td>01:00:00</td>\n",
       "      <td>05:44:00</td>\n",
       "      <td>1</td>\n",
       "    </tr>\n",
       "    <tr>\n",
       "      <td>159</td>\n",
       "      <td>2021-02-08</td>\n",
       "      <td>00:38:00</td>\n",
       "      <td>01:02:00</td>\n",
       "      <td>05:02:00</td>\n",
       "      <td>02:04:00</td>\n",
       "      <td>08:46:00</td>\n",
       "      <td>0</td>\n",
       "    </tr>\n",
       "  </tbody>\n",
       "</table>\n",
       "</div>"
      ],
      "text/plain": [
       "          Date   Awaken     Deep    Light      REM    Total  Weekend\n",
       "155 2021-02-04 01:33:00 00:41:00 06:00:00 00:44:00 08:58:00        0\n",
       "156 2021-02-05 01:03:00 00:39:00 05:24:00 01:14:00 08:20:00        0\n",
       "157 2021-02-06 00:53:00 00:40:00 04:06:00 01:41:00 07:20:00        1\n",
       "158 2021-02-07 01:24:00 00:45:00 02:35:00 01:00:00 05:44:00        1\n",
       "159 2021-02-08 00:38:00 01:02:00 05:02:00 02:04:00 08:46:00        0"
      ]
     },
     "execution_count": 29,
     "metadata": {},
     "output_type": "execute_result"
    }
   ],
   "source": [
    "sleep_data_final.tail()"
   ]
  },
  {
   "cell_type": "code",
   "execution_count": 30,
   "metadata": {},
   "outputs": [
    {
     "data": {
      "text/plain": [
       "Timedelta('0 days 04:30:00')"
      ]
     },
     "execution_count": 30,
     "metadata": {},
     "output_type": "execute_result"
    }
   ],
   "source": [
    "sleep_data_final['Total'].min()"
   ]
  },
  {
   "cell_type": "code",
   "execution_count": 31,
   "metadata": {},
   "outputs": [
    {
     "data": {
      "text/plain": [
       "Timedelta('0 days 11:02:00')"
      ]
     },
     "execution_count": 31,
     "metadata": {},
     "output_type": "execute_result"
    }
   ],
   "source": [
    "sleep_data_final['Total'].max()"
   ]
  },
  {
   "cell_type": "code",
   "execution_count": 32,
   "metadata": {},
   "outputs": [
    {
     "data": {
      "text/plain": [
       "Timedelta('0 days 07:45:09.913043')"
      ]
     },
     "execution_count": 32,
     "metadata": {},
     "output_type": "execute_result"
    }
   ],
   "source": [
    "sleep_data_final[sleep_data_final['Weekend']==0]['Total'].mean()"
   ]
  },
  {
   "cell_type": "code",
   "execution_count": 33,
   "metadata": {},
   "outputs": [
    {
     "data": {
      "text/plain": [
       "Timedelta('0 days 07:33:24')"
      ]
     },
     "execution_count": 33,
     "metadata": {},
     "output_type": "execute_result"
    }
   ],
   "source": [
    "sleep_data_final[sleep_data_final['Weekend']==1]['Total'].mean()"
   ]
  },
  {
   "cell_type": "code",
   "execution_count": 34,
   "metadata": {},
   "outputs": [
    {
     "data": {
      "text/plain": [
       "Timedelta('0 days 00:49:31.125000')"
      ]
     },
     "execution_count": 34,
     "metadata": {},
     "output_type": "execute_result"
    }
   ],
   "source": [
    "sleep_data_final['Awaken'].mean()"
   ]
  },
  {
   "cell_type": "code",
   "execution_count": 35,
   "metadata": {},
   "outputs": [
    {
     "data": {
      "text/plain": [
       "Timedelta('0 days 00:41:52.125000')"
      ]
     },
     "execution_count": 35,
     "metadata": {},
     "output_type": "execute_result"
    }
   ],
   "source": [
    "sleep_data_final['Deep'].mean()"
   ]
  },
  {
   "cell_type": "code",
   "execution_count": 36,
   "metadata": {},
   "outputs": [
    {
     "data": {
      "text/plain": [
       "Timedelta('0 days 04:58:55.125000')"
      ]
     },
     "execution_count": 36,
     "metadata": {},
     "output_type": "execute_result"
    }
   ],
   "source": [
    "sleep_data_final['Light'].mean()"
   ]
  },
  {
   "cell_type": "code",
   "execution_count": 37,
   "metadata": {},
   "outputs": [
    {
     "data": {
      "text/plain": [
       "Timedelta('0 days 01:11:33')"
      ]
     },
     "execution_count": 37,
     "metadata": {},
     "output_type": "execute_result"
    }
   ],
   "source": [
    "sleep_data_final['REM'].mean()"
   ]
  },
  {
   "cell_type": "code",
   "execution_count": 38,
   "metadata": {},
   "outputs": [
    {
     "data": {
      "text/plain": [
       "Timedelta('0 days 06:52:20.250000')"
      ]
     },
     "execution_count": 38,
     "metadata": {},
     "output_type": "execute_result"
    }
   ],
   "source": [
    "(sleep_data_final['Deep']+sleep_data_final['Light']+sleep_data_final['REM']).mean()"
   ]
  },
  {
   "cell_type": "code",
   "execution_count": 63,
   "metadata": {},
   "outputs": [
    {
     "name": "stdout",
     "output_type": "stream",
     "text": [
      "Standard deviation (bed time): 73.87085849153729\n"
     ]
    }
   ],
   "source": [
    "print('Standard deviation (bed time):',(sleep_data_final['Total'].astype('timedelta64[m]')).std())"
   ]
  },
  {
   "cell_type": "code",
   "execution_count": 67,
   "metadata": {},
   "outputs": [
    {
     "data": {
      "text/plain": [
       "Text(0, 0.5, 'Bed time in minutes')"
      ]
     },
     "execution_count": 67,
     "metadata": {},
     "output_type": "execute_result"
    },
    {
     "data": {
      "image/png": "[encoded data removed]",
      "text/plain": [
       "<Figure size 1440x432 with 1 Axes>"
      ]
     },
     "metadata": {},
     "output_type": "display_data"
    }
   ],
   "source": [
    "sns.set(rc={'figure.figsize':(20, 6)})\n",
    "y = sleep_data_final['Total'].astype('timedelta64[m]')\n",
    "sns.lineplot(x=sleep_data_final['Date'],y=y)\n",
    "sns.scatterplot(x=sleep_data_final[sleep_data_final['Weekend']==1]['Date'],y=y,marker='o',s=60,color='black') #Weekend\n",
    "sns.lineplot(x=sleep_data_final['Date'],y=y.mean()) #Average line\n",
    "sns.lineplot(x=sleep_data_final['Date'],y=y.mean()+y.std(),color='grey') #Standard deviation line\n",
    "sns.lineplot(x=sleep_data_final['Date'],y=y.mean()-y.std(),color='grey') #Standard deviation line\n",
    "plt.ylabel('Bed time in minutes', fontsize=15)"
   ]
  },
  {
   "cell_type": "code",
   "execution_count": 62,
   "metadata": {},
   "outputs": [
    {
     "name": "stdout",
     "output_type": "stream",
     "text": [
      "Standard deviation (asleep): 69.48796443455416\n"
     ]
    }
   ],
   "source": [
    "print('Standard deviation (asleep):',(sleep_data_final['Deep'].astype('timedelta64[m]')+sleep_data_final['Light'].astype('timedelta64[m]')+sleep_data_final['REM'].astype('timedelta64[m]')).std())"
   ]
  },
  {
   "cell_type": "code",
   "execution_count": 40,
   "metadata": {},
   "outputs": [
    {
     "name": "stderr",
     "output_type": "stream",
     "text": [
      "/Users/salim/opt/anaconda3/lib/python3.7/site-packages/pandas/plotting/_matplotlib/converter.py:103: FutureWarning: Using an implicitly registered datetime converter for a matplotlib plotting method. The converter was registered by pandas on import. Future versions of pandas will require you to explicitly register matplotlib converters.\n",
      "\n",
      "To register the converters:\n",
      "\t>>> from pandas.plotting import register_matplotlib_converters\n",
      "\t>>> register_matplotlib_converters()\n",
      "  warnings.warn(msg, FutureWarning)\n"
     ]
    },
    {
     "data": {
      "text/plain": [
       "Text(0, 0.5, 'Minutes asleep')"
      ]
     },
     "execution_count": 40,
     "metadata": {},
     "output_type": "execute_result"
    },
    {
     "data": {
      "image/png": "[encoded data removed]",
      "text/plain": [
       "<Figure size 1440x432 with 1 Axes>"
      ]
     },
     "metadata": {},
     "output_type": "display_data"
    }
   ],
   "source": [
    "sns.set(rc={'figure.figsize':(20, 6)})\n",
    "y = sleep_data_final['Deep'].astype('timedelta64[m]')+sleep_data_final['Light'].astype('timedelta64[m]')+sleep_data_final['REM'].astype('timedelta64[m]')\n",
    "sns.lineplot(x=sleep_data_final['Date'],y=y)\n",
    "sns.scatterplot(x=sleep_data_final[sleep_data_final['Weekend']==1]['Date'],y=y,marker='o',s=60,color='black') #Weekend\n",
    "sns.lineplot(x=sleep_data_final['Date'],y=y.mean()) #Average line\n",
    "sns.lineplot(x=sleep_data_final['Date'],y=y.mean()+y.std(),color='grey') #Standard deviation line\n",
    "sns.lineplot(x=sleep_data_final['Date'],y=y.mean()-y.std(),color='grey') #Standard deviation line\n",
    "plt.ylabel('Minutes asleep', fontsize=15)"
   ]
  },
  {
   "cell_type": "markdown",
   "metadata": {},
   "source": [
    "In here I only took into account minutes asleep: Deep+Light+REM without taking into account awake time. The orange line is the average number of minutes asleep, the grey ones are the standard deviation and the black dots are the weekend days."
   ]
  },
  {
   "cell_type": "code",
   "execution_count": 41,
   "metadata": {},
   "outputs": [
    {
     "data": {
      "text/plain": [
       "Text(0, 0.5, 'Minutes asleep')"
      ]
     },
     "execution_count": 41,
     "metadata": {},
     "output_type": "execute_result"
    },
    {
     "data": {
      "image/png": "[encoded data removed]",
      "text/plain": [
       "<Figure size 1440x432 with 1 Axes>"
      ]
     },
     "metadata": {},
     "output_type": "display_data"
    }
   ],
   "source": [
    "sns.boxplot(x=sleep_data_final['Weekend'],y=sleep_data_final['Total'].astype('timedelta64[m]'),palette='icefire')\n",
    "plt.ylabel('Minutes asleep', fontsize=15)"
   ]
  },
  {
   "cell_type": "markdown",
   "metadata": {},
   "source": [
    "# Analysis per hour"
   ]
  },
  {
   "cell_type": "code",
   "execution_count": 42,
   "metadata": {},
   "outputs": [],
   "source": [
    "sleep_data_per_hour = sleep_data"
   ]
  },
  {
   "cell_type": "code",
   "execution_count": 43,
   "metadata": {},
   "outputs": [],
   "source": [
    "def hour_matching(x):\n",
    "    if x >= '00:00:00' and x < '01:00:00':\n",
    "        x = '00:00:00'\n",
    "    elif x >= '01:00:00' and x < '02:00:00':\n",
    "        x = '01:00:00'\n",
    "    elif x >= '02:00:00' and x < '03:00:00':\n",
    "        x = '02:00:00'\n",
    "    elif x >= '03:00:00' and x < '04:00:00':\n",
    "        x = '03:00:00'\n",
    "    elif x >= '04:00:00' and x < '05:00:00':\n",
    "        x = '04:00:00'\n",
    "    elif x >= '05:00:00' and x < '06:00:00':\n",
    "        x = '05:00:00'\n",
    "    elif x >= '06:00:00' and x < '07:00:00':\n",
    "        x = '06:00:00'\n",
    "    elif x >= '07:00:00' and x < '08:00:00':\n",
    "        x = '07:00:00'\n",
    "    elif x >= '08:00:00' and x < '09:00:00':\n",
    "        x = '08:00:00'\n",
    "    elif x >= '09:00:00' and x < '10:00:00':\n",
    "        x = '09:00:00'\n",
    "    elif x >= '10:00:00' and x < '11:00:00':\n",
    "        x = '10:00:00'\n",
    "    elif x >= '11:00:00' and x < '12:00:00':\n",
    "        x = '11:00:00'\n",
    "    elif x >= '12:00:00' and x < '13:00:00':\n",
    "        x = '12:00:00'\n",
    "    elif x >= '13:00:00' and x < '14:00:00':\n",
    "        x = '13:00:00'\n",
    "    elif x >= '14:00:00' and x < '15:00:00':\n",
    "        x = '14:00:00'\n",
    "    elif x >= '15:00:00' and x < '16:00:00':\n",
    "        x = '15:00:00'\n",
    "    elif x >= '16:00:00' and x < '17:00:00':\n",
    "        x = '16:00:00'\n",
    "    elif x >= '17:00:00' and x < '18:00:00':\n",
    "        x = '17:00:00'\n",
    "    elif x >= '18:00:00' and x < '19:00:00':\n",
    "        x = '18:00:00'\n",
    "    elif x >= '19:00:00' and x < '20:00:00':\n",
    "        x = '19:00:00'\n",
    "    elif x >= '20:00:00' and x < '21:00:00':\n",
    "        x = '20:00:00'\n",
    "    elif x >= '21:00:00' and x < '22:00:00':\n",
    "        x = '21:00:00'\n",
    "    elif x >= '22:00:00' and x < '23:00:00':\n",
    "        x = '22:00:00'\n",
    "    elif x >= '23:00:00' and x <= '23:59:00':\n",
    "        x = '23:00:00'\n",
    "    return x"
   ]
  },
  {
   "cell_type": "code",
   "execution_count": 44,
   "metadata": {},
   "outputs": [],
   "source": [
    "sleep_data_per_hour['start_time_hour']=sleep_data_per_hour['start_time_hour'].apply(lambda x: hour_matching(x))"
   ]
  },
  {
   "cell_type": "code",
   "execution_count": 45,
   "metadata": {},
   "outputs": [
    {
     "data": {
      "text/html": [
       "<div>\n",
       "<style scoped>\n",
       "    .dataframe tbody tr th:only-of-type {\n",
       "        vertical-align: middle;\n",
       "    }\n",
       "\n",
       "    .dataframe tbody tr th {\n",
       "        vertical-align: top;\n",
       "    }\n",
       "\n",
       "    .dataframe thead th {\n",
       "        text-align: right;\n",
       "    }\n",
       "</style>\n",
       "<table border=\"1\" class=\"dataframe\">\n",
       "  <thead>\n",
       "    <tr style=\"text-align: right;\">\n",
       "      <th></th>\n",
       "      <th>start_time_date</th>\n",
       "      <th>start_time_hour</th>\n",
       "      <th>end_time_date</th>\n",
       "      <th>end_time_hour</th>\n",
       "      <th>stage_of_sleep</th>\n",
       "      <th>Duration</th>\n",
       "      <th>start_time_date_reworked</th>\n",
       "    </tr>\n",
       "  </thead>\n",
       "  <tbody>\n",
       "    <tr>\n",
       "      <td>0</td>\n",
       "      <td>2020-09-01</td>\n",
       "      <td>23:00:00</td>\n",
       "      <td>2020-09-01</td>\n",
       "      <td>23:26:00</td>\n",
       "      <td>Awaken</td>\n",
       "      <td>00:04:00</td>\n",
       "      <td>2020-09-01 00:00:00</td>\n",
       "    </tr>\n",
       "    <tr>\n",
       "      <td>1</td>\n",
       "      <td>2020-09-01</td>\n",
       "      <td>23:00:00</td>\n",
       "      <td>2020-09-01</td>\n",
       "      <td>23:29:00</td>\n",
       "      <td>Deep</td>\n",
       "      <td>00:03:00</td>\n",
       "      <td>2020-09-01 00:00:00</td>\n",
       "    </tr>\n",
       "    <tr>\n",
       "      <td>2</td>\n",
       "      <td>2020-09-01</td>\n",
       "      <td>23:00:00</td>\n",
       "      <td>2020-09-01</td>\n",
       "      <td>23:30:00</td>\n",
       "      <td>Light</td>\n",
       "      <td>00:01:00</td>\n",
       "      <td>2020-09-01 00:00:00</td>\n",
       "    </tr>\n",
       "    <tr>\n",
       "      <td>3</td>\n",
       "      <td>2020-09-01</td>\n",
       "      <td>23:00:00</td>\n",
       "      <td>2020-09-01</td>\n",
       "      <td>23:33:00</td>\n",
       "      <td>Deep</td>\n",
       "      <td>00:03:00</td>\n",
       "      <td>2020-09-01 00:00:00</td>\n",
       "    </tr>\n",
       "    <tr>\n",
       "      <td>4</td>\n",
       "      <td>2020-09-01</td>\n",
       "      <td>23:00:00</td>\n",
       "      <td>2020-09-01</td>\n",
       "      <td>23:43:00</td>\n",
       "      <td>Light</td>\n",
       "      <td>00:10:00</td>\n",
       "      <td>2020-09-01 00:00:00</td>\n",
       "    </tr>\n",
       "  </tbody>\n",
       "</table>\n",
       "</div>"
      ],
      "text/plain": [
       "  start_time_date start_time_hour end_time_date end_time_hour stage_of_sleep  \\\n",
       "0      2020-09-01        23:00:00    2020-09-01      23:26:00         Awaken   \n",
       "1      2020-09-01        23:00:00    2020-09-01      23:29:00           Deep   \n",
       "2      2020-09-01        23:00:00    2020-09-01      23:30:00          Light   \n",
       "3      2020-09-01        23:00:00    2020-09-01      23:33:00           Deep   \n",
       "4      2020-09-01        23:00:00    2020-09-01      23:43:00          Light   \n",
       "\n",
       "  Duration start_time_date_reworked  \n",
       "0 00:04:00      2020-09-01 00:00:00  \n",
       "1 00:03:00      2020-09-01 00:00:00  \n",
       "2 00:01:00      2020-09-01 00:00:00  \n",
       "3 00:03:00      2020-09-01 00:00:00  \n",
       "4 00:10:00      2020-09-01 00:00:00  "
      ]
     },
     "execution_count": 45,
     "metadata": {},
     "output_type": "execute_result"
    }
   ],
   "source": [
    "sleep_data_per_hour.head()"
   ]
  },
  {
   "cell_type": "code",
   "execution_count": 46,
   "metadata": {},
   "outputs": [],
   "source": [
    "sleep_data_per_hour = sleep_data_per_hour[['start_time_hour','stage_of_sleep','Duration']].groupby(['start_time_hour','stage_of_sleep']).sum().reset_index()"
   ]
  },
  {
   "cell_type": "code",
   "execution_count": 47,
   "metadata": {},
   "outputs": [
    {
     "data": {
      "text/html": [
       "<div>\n",
       "<style scoped>\n",
       "    .dataframe tbody tr th:only-of-type {\n",
       "        vertical-align: middle;\n",
       "    }\n",
       "\n",
       "    .dataframe tbody tr th {\n",
       "        vertical-align: top;\n",
       "    }\n",
       "\n",
       "    .dataframe thead th {\n",
       "        text-align: right;\n",
       "    }\n",
       "</style>\n",
       "<table border=\"1\" class=\"dataframe\">\n",
       "  <thead>\n",
       "    <tr style=\"text-align: right;\">\n",
       "      <th></th>\n",
       "      <th>start_time_hour</th>\n",
       "      <th>stage_of_sleep</th>\n",
       "      <th>Duration</th>\n",
       "    </tr>\n",
       "  </thead>\n",
       "  <tbody>\n",
       "    <tr>\n",
       "      <td>0</td>\n",
       "      <td>00:00:00</td>\n",
       "      <td>Awaken</td>\n",
       "      <td>0 days 04:56:00</td>\n",
       "    </tr>\n",
       "    <tr>\n",
       "      <td>1</td>\n",
       "      <td>00:00:00</td>\n",
       "      <td>Deep</td>\n",
       "      <td>0 days 07:10:00</td>\n",
       "    </tr>\n",
       "    <tr>\n",
       "      <td>2</td>\n",
       "      <td>00:00:00</td>\n",
       "      <td>Light</td>\n",
       "      <td>1 days 07:21:00</td>\n",
       "    </tr>\n",
       "    <tr>\n",
       "      <td>3</td>\n",
       "      <td>00:00:00</td>\n",
       "      <td>REM</td>\n",
       "      <td>0 days 05:17:00</td>\n",
       "    </tr>\n",
       "    <tr>\n",
       "      <td>4</td>\n",
       "      <td>01:00:00</td>\n",
       "      <td>Awaken</td>\n",
       "      <td>0 days 08:28:00</td>\n",
       "    </tr>\n",
       "    <tr>\n",
       "      <td>...</td>\n",
       "      <td>...</td>\n",
       "      <td>...</td>\n",
       "      <td>...</td>\n",
       "    </tr>\n",
       "    <tr>\n",
       "      <td>58</td>\n",
       "      <td>22:00:00</td>\n",
       "      <td>REM</td>\n",
       "      <td>0 days 00:55:00</td>\n",
       "    </tr>\n",
       "    <tr>\n",
       "      <td>59</td>\n",
       "      <td>23:00:00</td>\n",
       "      <td>Awaken</td>\n",
       "      <td>0 days 02:22:00</td>\n",
       "    </tr>\n",
       "    <tr>\n",
       "      <td>60</td>\n",
       "      <td>23:00:00</td>\n",
       "      <td>Deep</td>\n",
       "      <td>0 days 02:22:00</td>\n",
       "    </tr>\n",
       "    <tr>\n",
       "      <td>61</td>\n",
       "      <td>23:00:00</td>\n",
       "      <td>Light</td>\n",
       "      <td>0 days 10:50:00</td>\n",
       "    </tr>\n",
       "    <tr>\n",
       "      <td>62</td>\n",
       "      <td>23:00:00</td>\n",
       "      <td>REM</td>\n",
       "      <td>0 days 01:06:00</td>\n",
       "    </tr>\n",
       "  </tbody>\n",
       "</table>\n",
       "<p>63 rows × 3 columns</p>\n",
       "</div>"
      ],
      "text/plain": [
       "   start_time_hour stage_of_sleep        Duration\n",
       "0         00:00:00         Awaken 0 days 04:56:00\n",
       "1         00:00:00           Deep 0 days 07:10:00\n",
       "2         00:00:00          Light 1 days 07:21:00\n",
       "3         00:00:00            REM 0 days 05:17:00\n",
       "4         01:00:00         Awaken 0 days 08:28:00\n",
       "..             ...            ...             ...\n",
       "58        22:00:00            REM 0 days 00:55:00\n",
       "59        23:00:00         Awaken 0 days 02:22:00\n",
       "60        23:00:00           Deep 0 days 02:22:00\n",
       "61        23:00:00          Light 0 days 10:50:00\n",
       "62        23:00:00            REM 0 days 01:06:00\n",
       "\n",
       "[63 rows x 3 columns]"
      ]
     },
     "execution_count": 47,
     "metadata": {},
     "output_type": "execute_result"
    }
   ],
   "source": [
    "sleep_data_per_hour"
   ]
  },
  {
   "cell_type": "code",
   "execution_count": 48,
   "metadata": {},
   "outputs": [
    {
     "name": "stderr",
     "output_type": "stream",
     "text": [
      "/Users/salim/opt/anaconda3/lib/python3.7/site-packages/pandas/core/indexing.py:205: SettingWithCopyWarning: \n",
      "A value is trying to be set on a copy of a slice from a DataFrame\n",
      "\n",
      "See the caveats in the documentation: http://pandas.pydata.org/pandas-docs/stable/user_guide/indexing.html#returning-a-view-versus-a-copy\n",
      "  self._setitem_with_indexer(indexer, value)\n"
     ]
    }
   ],
   "source": [
    "sleep_data_per_hour['Duration (%)'] = 0\n",
    "sleep_data_per_hour = sleep_data_per_hour.append({'start_time_hour':'21:00:00','stage_of_sleep':'REM','Duration':datetime.timedelta(0)},ignore_index=True).sort_values('start_time_hour').reset_index().drop('index',axis=1)\n",
    "#sleep_data_per_hour.index = sleep_data_per_hour.index+1\n",
    "for i in range(0,len(sleep_data_per_hour),4):\n",
    "    sleep_data_per_hour['Duration (%)'].loc[i] = sleep_data_per_hour['Duration'].loc[i] / (sleep_data_per_hour['Duration'].loc[i] + sleep_data_per_hour['Duration'].loc[i+1] + sleep_data_per_hour['Duration'].loc[i+2] + sleep_data_per_hour['Duration'].loc[i+3])\n",
    "    sleep_data_per_hour['Duration (%)'].loc[i+1] = sleep_data_per_hour['Duration'].loc[i+1] / (sleep_data_per_hour['Duration'].loc[i] + sleep_data_per_hour['Duration'].loc[i+1] + sleep_data_per_hour['Duration'].loc[i+2] + sleep_data_per_hour['Duration'].loc[i+3])\n",
    "    sleep_data_per_hour['Duration (%)'].loc[i+2] = sleep_data_per_hour['Duration'].loc[i+2] / (sleep_data_per_hour['Duration'].loc[i] + sleep_data_per_hour['Duration'].loc[i+1] + sleep_data_per_hour['Duration'].loc[i+2] + sleep_data_per_hour['Duration'].loc[i+3])\n",
    "    sleep_data_per_hour['Duration (%)'].loc[i+3] = sleep_data_per_hour['Duration'].loc[i+3] / (sleep_data_per_hour['Duration'].loc[i] + sleep_data_per_hour['Duration'].loc[i+1] + sleep_data_per_hour['Duration'].loc[i+2] + sleep_data_per_hour['Duration'].loc[i+3])    "
   ]
  },
  {
   "cell_type": "code",
   "execution_count": 49,
   "metadata": {},
   "outputs": [
    {
     "data": {
      "text/html": [
       "<div>\n",
       "<style scoped>\n",
       "    .dataframe tbody tr th:only-of-type {\n",
       "        vertical-align: middle;\n",
       "    }\n",
       "\n",
       "    .dataframe tbody tr th {\n",
       "        vertical-align: top;\n",
       "    }\n",
       "\n",
       "    .dataframe thead th {\n",
       "        text-align: right;\n",
       "    }\n",
       "</style>\n",
       "<table border=\"1\" class=\"dataframe\">\n",
       "  <thead>\n",
       "    <tr style=\"text-align: right;\">\n",
       "      <th></th>\n",
       "      <th>start_time_hour</th>\n",
       "      <th>stage_of_sleep</th>\n",
       "      <th>Duration</th>\n",
       "      <th>Duration (%)</th>\n",
       "    </tr>\n",
       "  </thead>\n",
       "  <tbody>\n",
       "    <tr>\n",
       "      <td>0</td>\n",
       "      <td>00:00:00</td>\n",
       "      <td>Awaken</td>\n",
       "      <td>0 days 04:56:00</td>\n",
       "      <td>0.101231</td>\n",
       "    </tr>\n",
       "    <tr>\n",
       "      <td>1</td>\n",
       "      <td>00:00:00</td>\n",
       "      <td>Deep</td>\n",
       "      <td>0 days 07:10:00</td>\n",
       "      <td>0.147059</td>\n",
       "    </tr>\n",
       "    <tr>\n",
       "      <td>2</td>\n",
       "      <td>00:00:00</td>\n",
       "      <td>Light</td>\n",
       "      <td>1 days 07:21:00</td>\n",
       "      <td>0.643297</td>\n",
       "    </tr>\n",
       "    <tr>\n",
       "      <td>3</td>\n",
       "      <td>00:00:00</td>\n",
       "      <td>REM</td>\n",
       "      <td>0 days 05:17:00</td>\n",
       "      <td>0.108413</td>\n",
       "    </tr>\n",
       "    <tr>\n",
       "      <td>4</td>\n",
       "      <td>01:00:00</td>\n",
       "      <td>Awaken</td>\n",
       "      <td>0 days 08:28:00</td>\n",
       "      <td>0.083238</td>\n",
       "    </tr>\n",
       "  </tbody>\n",
       "</table>\n",
       "</div>"
      ],
      "text/plain": [
       "  start_time_hour stage_of_sleep        Duration  Duration (%)\n",
       "0        00:00:00         Awaken 0 days 04:56:00      0.101231\n",
       "1        00:00:00           Deep 0 days 07:10:00      0.147059\n",
       "2        00:00:00          Light 1 days 07:21:00      0.643297\n",
       "3        00:00:00            REM 0 days 05:17:00      0.108413\n",
       "4        01:00:00         Awaken 0 days 08:28:00      0.083238"
      ]
     },
     "execution_count": 49,
     "metadata": {},
     "output_type": "execute_result"
    }
   ],
   "source": [
    "sleep_data_per_hour.head()"
   ]
  },
  {
   "cell_type": "code",
   "execution_count": 50,
   "metadata": {},
   "outputs": [],
   "source": [
    "sleep_data_per_hour_pivot = sleep_data_per_hour[['start_time_hour','stage_of_sleep','Duration (%)']].pivot(index='start_time_hour',columns='stage_of_sleep',values='Duration (%)')"
   ]
  },
  {
   "cell_type": "code",
   "execution_count": 51,
   "metadata": {},
   "outputs": [
    {
     "data": {
      "text/html": [
       "<div>\n",
       "<style scoped>\n",
       "    .dataframe tbody tr th:only-of-type {\n",
       "        vertical-align: middle;\n",
       "    }\n",
       "\n",
       "    .dataframe tbody tr th {\n",
       "        vertical-align: top;\n",
       "    }\n",
       "\n",
       "    .dataframe thead th {\n",
       "        text-align: right;\n",
       "    }\n",
       "</style>\n",
       "<table border=\"1\" class=\"dataframe\">\n",
       "  <thead>\n",
       "    <tr style=\"text-align: right;\">\n",
       "      <th>stage_of_sleep</th>\n",
       "      <th>Awaken</th>\n",
       "      <th>Deep</th>\n",
       "      <th>Light</th>\n",
       "      <th>REM</th>\n",
       "    </tr>\n",
       "    <tr>\n",
       "      <th>start_time_hour</th>\n",
       "      <th></th>\n",
       "      <th></th>\n",
       "      <th></th>\n",
       "      <th></th>\n",
       "    </tr>\n",
       "  </thead>\n",
       "  <tbody>\n",
       "    <tr>\n",
       "      <td>00:00:00</td>\n",
       "      <td>0.101231</td>\n",
       "      <td>0.147059</td>\n",
       "      <td>0.643297</td>\n",
       "      <td>0.108413</td>\n",
       "    </tr>\n",
       "    <tr>\n",
       "      <td>01:00:00</td>\n",
       "      <td>0.083238</td>\n",
       "      <td>0.144355</td>\n",
       "      <td>0.645256</td>\n",
       "      <td>0.127151</td>\n",
       "    </tr>\n",
       "    <tr>\n",
       "      <td>02:00:00</td>\n",
       "      <td>0.084312</td>\n",
       "      <td>0.142438</td>\n",
       "      <td>0.634086</td>\n",
       "      <td>0.139165</td>\n",
       "    </tr>\n",
       "    <tr>\n",
       "      <td>03:00:00</td>\n",
       "      <td>0.085264</td>\n",
       "      <td>0.095314</td>\n",
       "      <td>0.652809</td>\n",
       "      <td>0.166614</td>\n",
       "    </tr>\n",
       "    <tr>\n",
       "      <td>04:00:00</td>\n",
       "      <td>0.058243</td>\n",
       "      <td>0.102739</td>\n",
       "      <td>0.693514</td>\n",
       "      <td>0.145505</td>\n",
       "    </tr>\n",
       "    <tr>\n",
       "      <td>05:00:00</td>\n",
       "      <td>0.058641</td>\n",
       "      <td>0.085740</td>\n",
       "      <td>0.666704</td>\n",
       "      <td>0.188916</td>\n",
       "    </tr>\n",
       "    <tr>\n",
       "      <td>06:00:00</td>\n",
       "      <td>0.078166</td>\n",
       "      <td>0.060872</td>\n",
       "      <td>0.681306</td>\n",
       "      <td>0.179656</td>\n",
       "    </tr>\n",
       "    <tr>\n",
       "      <td>07:00:00</td>\n",
       "      <td>0.171069</td>\n",
       "      <td>0.042180</td>\n",
       "      <td>0.645139</td>\n",
       "      <td>0.141613</td>\n",
       "    </tr>\n",
       "    <tr>\n",
       "      <td>08:00:00</td>\n",
       "      <td>0.204913</td>\n",
       "      <td>0.043039</td>\n",
       "      <td>0.634355</td>\n",
       "      <td>0.117692</td>\n",
       "    </tr>\n",
       "    <tr>\n",
       "      <td>09:00:00</td>\n",
       "      <td>0.182961</td>\n",
       "      <td>0.062475</td>\n",
       "      <td>0.557809</td>\n",
       "      <td>0.196755</td>\n",
       "    </tr>\n",
       "    <tr>\n",
       "      <td>10:00:00</td>\n",
       "      <td>0.246662</td>\n",
       "      <td>0.031151</td>\n",
       "      <td>0.420216</td>\n",
       "      <td>0.301971</td>\n",
       "    </tr>\n",
       "    <tr>\n",
       "      <td>11:00:00</td>\n",
       "      <td>0.365639</td>\n",
       "      <td>0.007342</td>\n",
       "      <td>0.474302</td>\n",
       "      <td>0.152717</td>\n",
       "    </tr>\n",
       "    <tr>\n",
       "      <td>12:00:00</td>\n",
       "      <td>0.403226</td>\n",
       "      <td>0.043011</td>\n",
       "      <td>0.494624</td>\n",
       "      <td>0.059140</td>\n",
       "    </tr>\n",
       "    <tr>\n",
       "      <td>21:00:00</td>\n",
       "      <td>0.232759</td>\n",
       "      <td>0.047414</td>\n",
       "      <td>0.719828</td>\n",
       "      <td>0.000000</td>\n",
       "    </tr>\n",
       "    <tr>\n",
       "      <td>22:00:00</td>\n",
       "      <td>0.330247</td>\n",
       "      <td>0.027778</td>\n",
       "      <td>0.472222</td>\n",
       "      <td>0.169753</td>\n",
       "    </tr>\n",
       "    <tr>\n",
       "      <td>23:00:00</td>\n",
       "      <td>0.142000</td>\n",
       "      <td>0.142000</td>\n",
       "      <td>0.650000</td>\n",
       "      <td>0.066000</td>\n",
       "    </tr>\n",
       "  </tbody>\n",
       "</table>\n",
       "</div>"
      ],
      "text/plain": [
       "stage_of_sleep     Awaken      Deep     Light       REM\n",
       "start_time_hour                                        \n",
       "00:00:00         0.101231  0.147059  0.643297  0.108413\n",
       "01:00:00         0.083238  0.144355  0.645256  0.127151\n",
       "02:00:00         0.084312  0.142438  0.634086  0.139165\n",
       "03:00:00         0.085264  0.095314  0.652809  0.166614\n",
       "04:00:00         0.058243  0.102739  0.693514  0.145505\n",
       "05:00:00         0.058641  0.085740  0.666704  0.188916\n",
       "06:00:00         0.078166  0.060872  0.681306  0.179656\n",
       "07:00:00         0.171069  0.042180  0.645139  0.141613\n",
       "08:00:00         0.204913  0.043039  0.634355  0.117692\n",
       "09:00:00         0.182961  0.062475  0.557809  0.196755\n",
       "10:00:00         0.246662  0.031151  0.420216  0.301971\n",
       "11:00:00         0.365639  0.007342  0.474302  0.152717\n",
       "12:00:00         0.403226  0.043011  0.494624  0.059140\n",
       "21:00:00         0.232759  0.047414  0.719828  0.000000\n",
       "22:00:00         0.330247  0.027778  0.472222  0.169753\n",
       "23:00:00         0.142000  0.142000  0.650000  0.066000"
      ]
     },
     "execution_count": 51,
     "metadata": {},
     "output_type": "execute_result"
    }
   ],
   "source": [
    "sleep_data_per_hour_pivot"
   ]
  },
  {
   "cell_type": "code",
   "execution_count": 52,
   "metadata": {
    "scrolled": false
   },
   "outputs": [
    {
     "data": {
      "image/png": "[encoded data removed]",
      "text/plain": [
       "<Figure size 864x720 with 1 Axes>"
      ]
     },
     "metadata": {},
     "output_type": "display_data"
    }
   ],
   "source": [
    "#https://towardsdatascience.com/stacked-bar-charts-with-pythons-matplotlib-f4020e4eb4a7\n",
    "\n",
    "# variables\n",
    "labels = ['Awaken', 'Deep', 'Light', 'REM']\n",
    "colors = ['#8390FA','#1D2F6F', '#6EAF46', '#FAC748']\n",
    "title = 'Sleep phase per hour'\n",
    "subtitle = ''\n",
    "\n",
    "def plot_stackedbar_p(df, labels, colors, title, subtitle):\n",
    "    fields = df.columns.tolist()\n",
    "    \n",
    "    # figure and axis\n",
    "    fig, ax = plt.subplots(1, figsize=(12, 10))\n",
    "# plot bars\n",
    "    left = len(df) * [0]\n",
    "    for idx, name in enumerate(fields):\n",
    "        plt.barh(df.index, df[name], left = left, color=colors[idx])\n",
    "        left = left + df[name]\n",
    "# title and subtitle\n",
    "    plt.title(title, loc='left')\n",
    "    plt.text(0, ax.get_yticks()[-1] + 0.75, subtitle)\n",
    "# legend\n",
    "    plt.legend(labels, bbox_to_anchor=([0.58, 1, 0, 0]), ncol=4, frameon=False)\n",
    "# remove spines\n",
    "    ax.spines['right'].set_visible(False)\n",
    "    ax.spines['left'].set_visible(False)\n",
    "    ax.spines['top'].set_visible(False)\n",
    "    ax.spines['bottom'].set_visible(False)\n",
    "# format x ticks\n",
    "    xticks = np.arange(0,1.1,0.1)\n",
    "    xlabels = ['{}%'.format(i) for i in np.arange(0,101,10)]\n",
    "    plt.xticks(xticks, xlabels)\n",
    "# adjust limits and draw grid lines\n",
    "    plt.ylim(-0.5, ax.get_yticks()[-1] + 0.5)\n",
    "    ax.xaxis.grid(color='gray', linestyle='dashed')\n",
    "plt.show()\n",
    "    \n",
    "plot_stackedbar_p(sleep_data_per_hour_pivot.sort_values('start_time_hour',ascending=False), labels, colors, title, subtitle)"
   ]
  },
  {
   "cell_type": "markdown",
   "metadata": {},
   "source": [
    "| Stage        | Signification           | Description |\n",
    "| ------------- | :-------------| :------------- |\n",
    "| 40001      | **Awaken stage of sleep.** | Eyes open. Responsive to external stimuli. |\n",
    "| 40002      | **Light stage of sleep.** | Breathing slows down and heartbeat becomes regular. Typically lasts between 1 and 20 minutes after falling asleep. |\n",
    "| 40003 | **Deep stage of sleep.** | Brain waves slow down and become larger. Typically starts 35 - 45 minutes after falling asleep. |\n",
    "| 40004 | **REM (Rapid Eye Movement) stage of sleep.** | Brain waves similar to waking. Most vivid dreams happen in this stage. Body does not move. |\n",
    "\n",
    "*https://developer.samsung.com/health/server/partner-only/api-reference/data-types/sleep-stage.html*"
   ]
  },
  {
   "cell_type": "markdown",
   "metadata": {},
   "source": [
    "# Comparison vs. step count"
   ]
  },
  {
   "cell_type": "code",
   "execution_count": 53,
   "metadata": {},
   "outputs": [
    {
     "data": {
      "text/html": [
       "<div>\n",
       "<style scoped>\n",
       "    .dataframe tbody tr th:only-of-type {\n",
       "        vertical-align: middle;\n",
       "    }\n",
       "\n",
       "    .dataframe tbody tr th {\n",
       "        vertical-align: top;\n",
       "    }\n",
       "\n",
       "    .dataframe thead th {\n",
       "        text-align: right;\n",
       "    }\n",
       "</style>\n",
       "<table border=\"1\" class=\"dataframe\">\n",
       "  <thead>\n",
       "    <tr style=\"text-align: right;\">\n",
       "      <th></th>\n",
       "      <th>Date</th>\n",
       "      <th>Awaken</th>\n",
       "      <th>Deep</th>\n",
       "      <th>Light</th>\n",
       "      <th>REM</th>\n",
       "      <th>Total</th>\n",
       "      <th>Weekend</th>\n",
       "    </tr>\n",
       "  </thead>\n",
       "  <tbody>\n",
       "    <tr>\n",
       "      <td>0</td>\n",
       "      <td>2020-09-01</td>\n",
       "      <td>00:45:00</td>\n",
       "      <td>00:42:00</td>\n",
       "      <td>04:52:00</td>\n",
       "      <td>01:46:00</td>\n",
       "      <td>08:05:00</td>\n",
       "      <td>0</td>\n",
       "    </tr>\n",
       "    <tr>\n",
       "      <td>1</td>\n",
       "      <td>2020-09-02</td>\n",
       "      <td>00:55:00</td>\n",
       "      <td>00:47:00</td>\n",
       "      <td>05:28:00</td>\n",
       "      <td>00:57:00</td>\n",
       "      <td>08:07:00</td>\n",
       "      <td>0</td>\n",
       "    </tr>\n",
       "    <tr>\n",
       "      <td>2</td>\n",
       "      <td>2020-09-03</td>\n",
       "      <td>00:32:00</td>\n",
       "      <td>00:49:00</td>\n",
       "      <td>02:52:00</td>\n",
       "      <td>01:34:00</td>\n",
       "      <td>05:47:00</td>\n",
       "      <td>0</td>\n",
       "    </tr>\n",
       "    <tr>\n",
       "      <td>3</td>\n",
       "      <td>2020-09-04</td>\n",
       "      <td>00:27:00</td>\n",
       "      <td>01:04:00</td>\n",
       "      <td>04:40:00</td>\n",
       "      <td>02:40:00</td>\n",
       "      <td>08:51:00</td>\n",
       "      <td>0</td>\n",
       "    </tr>\n",
       "    <tr>\n",
       "      <td>4</td>\n",
       "      <td>2020-09-05</td>\n",
       "      <td>00:38:00</td>\n",
       "      <td>00:46:00</td>\n",
       "      <td>06:05:00</td>\n",
       "      <td>01:07:00</td>\n",
       "      <td>08:36:00</td>\n",
       "      <td>1</td>\n",
       "    </tr>\n",
       "  </tbody>\n",
       "</table>\n",
       "</div>"
      ],
      "text/plain": [
       "        Date   Awaken     Deep    Light      REM    Total  Weekend\n",
       "0 2020-09-01 00:45:00 00:42:00 04:52:00 01:46:00 08:05:00        0\n",
       "1 2020-09-02 00:55:00 00:47:00 05:28:00 00:57:00 08:07:00        0\n",
       "2 2020-09-03 00:32:00 00:49:00 02:52:00 01:34:00 05:47:00        0\n",
       "3 2020-09-04 00:27:00 01:04:00 04:40:00 02:40:00 08:51:00        0\n",
       "4 2020-09-05 00:38:00 00:46:00 06:05:00 01:07:00 08:36:00        1"
      ]
     },
     "execution_count": 53,
     "metadata": {},
     "output_type": "execute_result"
    }
   ],
   "source": [
    "sleep_data_final.head()"
   ]
  },
  {
   "cell_type": "code",
   "execution_count": 54,
   "metadata": {},
   "outputs": [],
   "source": [
    "step_count_data = pd.read_excel('Step_count.xlsx')"
   ]
  },
  {
   "cell_type": "code",
   "execution_count": 55,
   "metadata": {},
   "outputs": [],
   "source": [
    "sleep_data_final_step = pd.merge(sleep_data_final,step_count_data)"
   ]
  },
  {
   "cell_type": "code",
   "execution_count": 56,
   "metadata": {},
   "outputs": [
    {
     "data": {
      "text/html": [
       "<div>\n",
       "<style scoped>\n",
       "    .dataframe tbody tr th:only-of-type {\n",
       "        vertical-align: middle;\n",
       "    }\n",
       "\n",
       "    .dataframe tbody tr th {\n",
       "        vertical-align: top;\n",
       "    }\n",
       "\n",
       "    .dataframe thead th {\n",
       "        text-align: right;\n",
       "    }\n",
       "</style>\n",
       "<table border=\"1\" class=\"dataframe\">\n",
       "  <thead>\n",
       "    <tr style=\"text-align: right;\">\n",
       "      <th></th>\n",
       "      <th>Date</th>\n",
       "      <th>Awaken</th>\n",
       "      <th>Deep</th>\n",
       "      <th>Light</th>\n",
       "      <th>REM</th>\n",
       "      <th>Total</th>\n",
       "      <th>Weekend</th>\n",
       "      <th>Step count</th>\n",
       "    </tr>\n",
       "  </thead>\n",
       "  <tbody>\n",
       "    <tr>\n",
       "      <td>0</td>\n",
       "      <td>2020-09-01</td>\n",
       "      <td>00:45:00</td>\n",
       "      <td>00:42:00</td>\n",
       "      <td>04:52:00</td>\n",
       "      <td>01:46:00</td>\n",
       "      <td>08:05:00</td>\n",
       "      <td>0</td>\n",
       "      <td>129</td>\n",
       "    </tr>\n",
       "    <tr>\n",
       "      <td>1</td>\n",
       "      <td>2020-09-02</td>\n",
       "      <td>00:55:00</td>\n",
       "      <td>00:47:00</td>\n",
       "      <td>05:28:00</td>\n",
       "      <td>00:57:00</td>\n",
       "      <td>08:07:00</td>\n",
       "      <td>0</td>\n",
       "      <td>1762</td>\n",
       "    </tr>\n",
       "    <tr>\n",
       "      <td>2</td>\n",
       "      <td>2020-09-03</td>\n",
       "      <td>00:32:00</td>\n",
       "      <td>00:49:00</td>\n",
       "      <td>02:52:00</td>\n",
       "      <td>01:34:00</td>\n",
       "      <td>05:47:00</td>\n",
       "      <td>0</td>\n",
       "      <td>2681</td>\n",
       "    </tr>\n",
       "    <tr>\n",
       "      <td>3</td>\n",
       "      <td>2020-09-04</td>\n",
       "      <td>00:27:00</td>\n",
       "      <td>01:04:00</td>\n",
       "      <td>04:40:00</td>\n",
       "      <td>02:40:00</td>\n",
       "      <td>08:51:00</td>\n",
       "      <td>0</td>\n",
       "      <td>11185</td>\n",
       "    </tr>\n",
       "    <tr>\n",
       "      <td>4</td>\n",
       "      <td>2020-09-05</td>\n",
       "      <td>00:38:00</td>\n",
       "      <td>00:46:00</td>\n",
       "      <td>06:05:00</td>\n",
       "      <td>01:07:00</td>\n",
       "      <td>08:36:00</td>\n",
       "      <td>1</td>\n",
       "      <td>8562</td>\n",
       "    </tr>\n",
       "  </tbody>\n",
       "</table>\n",
       "</div>"
      ],
      "text/plain": [
       "        Date   Awaken     Deep    Light      REM    Total  Weekend  Step count\n",
       "0 2020-09-01 00:45:00 00:42:00 04:52:00 01:46:00 08:05:00        0         129\n",
       "1 2020-09-02 00:55:00 00:47:00 05:28:00 00:57:00 08:07:00        0        1762\n",
       "2 2020-09-03 00:32:00 00:49:00 02:52:00 01:34:00 05:47:00        0        2681\n",
       "3 2020-09-04 00:27:00 01:04:00 04:40:00 02:40:00 08:51:00        0       11185\n",
       "4 2020-09-05 00:38:00 00:46:00 06:05:00 01:07:00 08:36:00        1        8562"
      ]
     },
     "execution_count": 56,
     "metadata": {},
     "output_type": "execute_result"
    }
   ],
   "source": [
    "sleep_data_final_step.head()"
   ]
  },
  {
   "cell_type": "code",
   "execution_count": 57,
   "metadata": {},
   "outputs": [],
   "source": [
    "sleep_data_final_step['Awaken']=sleep_data_final_step['Awaken'].astype('timedelta64[m]')\n",
    "sleep_data_final_step['Deep']=sleep_data_final_step['Deep'].astype('timedelta64[m]')\n",
    "sleep_data_final_step['Light']=sleep_data_final_step['Light'].astype('timedelta64[m]')\n",
    "sleep_data_final_step['REM']=sleep_data_final_step['REM'].astype('timedelta64[m]')\n",
    "sleep_data_final_step['Total']=sleep_data_final_step['Total'].astype('timedelta64[m]')"
   ]
  },
  {
   "cell_type": "code",
   "execution_count": 58,
   "metadata": {},
   "outputs": [
    {
     "data": {
      "text/plain": [
       "<matplotlib.axes._subplots.AxesSubplot at 0x1a22f83910>"
      ]
     },
     "execution_count": 58,
     "metadata": {},
     "output_type": "execute_result"
    },
    {
     "data": {
      "image/png": "[encoded data removed]",
      "text/plain": [
       "<Figure size 1440x432 with 4 Axes>"
      ]
     },
     "metadata": {},
     "output_type": "display_data"
    }
   ],
   "source": [
    "ig, axs = plt.subplots(nrows=2,ncols=2,sharex=True)\n",
    "sns.scatterplot(x=sleep_data_final_step['Step count'],y=sleep_data_final_step['Awaken'],ax=axs[0,0],color='black')\n",
    "sns.scatterplot(x=sleep_data_final_step['Step count'],y=sleep_data_final_step['Deep'],ax=axs[0,1],color='black')\n",
    "sns.scatterplot(x=sleep_data_final_step['Step count'],y=sleep_data_final_step['Light'],ax=axs[1,0],color='black')\n",
    "sns.scatterplot(x=sleep_data_final_step['Step count'],y=sleep_data_final_step['REM'],ax=axs[1,1],color='black')"
   ]
  },
  {
   "cell_type": "code",
   "execution_count": 59,
   "metadata": {},
   "outputs": [
    {
     "data": {
      "text/html": [
       "<div>\n",
       "<style scoped>\n",
       "    .dataframe tbody tr th:only-of-type {\n",
       "        vertical-align: middle;\n",
       "    }\n",
       "\n",
       "    .dataframe tbody tr th {\n",
       "        vertical-align: top;\n",
       "    }\n",
       "\n",
       "    .dataframe thead th {\n",
       "        text-align: right;\n",
       "    }\n",
       "</style>\n",
       "<table border=\"1\" class=\"dataframe\">\n",
       "  <thead>\n",
       "    <tr style=\"text-align: right;\">\n",
       "      <th></th>\n",
       "      <th>Awaken</th>\n",
       "      <th>Deep</th>\n",
       "      <th>Light</th>\n",
       "      <th>REM</th>\n",
       "      <th>Total</th>\n",
       "      <th>Weekend</th>\n",
       "      <th>Step count</th>\n",
       "    </tr>\n",
       "  </thead>\n",
       "  <tbody>\n",
       "    <tr>\n",
       "      <td>Awaken</td>\n",
       "      <td>1.000000</td>\n",
       "      <td>0.019027</td>\n",
       "      <td>0.324924</td>\n",
       "      <td>-0.260756</td>\n",
       "      <td>0.369869</td>\n",
       "      <td>-0.106248</td>\n",
       "      <td>-0.174976</td>\n",
       "    </tr>\n",
       "    <tr>\n",
       "      <td>Deep</td>\n",
       "      <td>0.019027</td>\n",
       "      <td>1.000000</td>\n",
       "      <td>0.130947</td>\n",
       "      <td>0.049142</td>\n",
       "      <td>0.341489</td>\n",
       "      <td>0.079188</td>\n",
       "      <td>0.186280</td>\n",
       "    </tr>\n",
       "    <tr>\n",
       "      <td>Light</td>\n",
       "      <td>0.324924</td>\n",
       "      <td>0.130947</td>\n",
       "      <td>1.000000</td>\n",
       "      <td>-0.167425</td>\n",
       "      <td>0.847836</td>\n",
       "      <td>-0.074469</td>\n",
       "      <td>-0.042428</td>\n",
       "    </tr>\n",
       "    <tr>\n",
       "      <td>REM</td>\n",
       "      <td>-0.260756</td>\n",
       "      <td>0.049142</td>\n",
       "      <td>-0.167425</td>\n",
       "      <td>1.000000</td>\n",
       "      <td>0.297582</td>\n",
       "      <td>-0.005357</td>\n",
       "      <td>0.178943</td>\n",
       "    </tr>\n",
       "    <tr>\n",
       "      <td>Total</td>\n",
       "      <td>0.369869</td>\n",
       "      <td>0.341489</td>\n",
       "      <td>0.847836</td>\n",
       "      <td>0.297582</td>\n",
       "      <td>1.000000</td>\n",
       "      <td>-0.071833</td>\n",
       "      <td>0.050675</td>\n",
       "    </tr>\n",
       "    <tr>\n",
       "      <td>Weekend</td>\n",
       "      <td>-0.106248</td>\n",
       "      <td>0.079188</td>\n",
       "      <td>-0.074469</td>\n",
       "      <td>-0.005357</td>\n",
       "      <td>-0.071833</td>\n",
       "      <td>1.000000</td>\n",
       "      <td>0.271935</td>\n",
       "    </tr>\n",
       "    <tr>\n",
       "      <td>Step count</td>\n",
       "      <td>-0.174976</td>\n",
       "      <td>0.186280</td>\n",
       "      <td>-0.042428</td>\n",
       "      <td>0.178943</td>\n",
       "      <td>0.050675</td>\n",
       "      <td>0.271935</td>\n",
       "      <td>1.000000</td>\n",
       "    </tr>\n",
       "  </tbody>\n",
       "</table>\n",
       "</div>"
      ],
      "text/plain": [
       "              Awaken      Deep     Light       REM     Total   Weekend  \\\n",
       "Awaken      1.000000  0.019027  0.324924 -0.260756  0.369869 -0.106248   \n",
       "Deep        0.019027  1.000000  0.130947  0.049142  0.341489  0.079188   \n",
       "Light       0.324924  0.130947  1.000000 -0.167425  0.847836 -0.074469   \n",
       "REM        -0.260756  0.049142 -0.167425  1.000000  0.297582 -0.005357   \n",
       "Total       0.369869  0.341489  0.847836  0.297582  1.000000 -0.071833   \n",
       "Weekend    -0.106248  0.079188 -0.074469 -0.005357 -0.071833  1.000000   \n",
       "Step count -0.174976  0.186280 -0.042428  0.178943  0.050675  0.271935   \n",
       "\n",
       "            Step count  \n",
       "Awaken       -0.174976  \n",
       "Deep          0.186280  \n",
       "Light        -0.042428  \n",
       "REM           0.178943  \n",
       "Total         0.050675  \n",
       "Weekend       0.271935  \n",
       "Step count    1.000000  "
      ]
     },
     "execution_count": 59,
     "metadata": {},
     "output_type": "execute_result"
    }
   ],
   "source": [
    "sleep_data_final_step.corr()"
   ]
  },
  {
   "cell_type": "code",
   "execution_count": 60,
   "metadata": {},
   "outputs": [
    {
     "data": {
      "image/png": "[encoded data removed]",
      "text/plain": [
       "<Figure size 792x648 with 2 Axes>"
      ]
     },
     "metadata": {},
     "output_type": "display_data"
    }
   ],
   "source": [
    "mask = np.zeros_like(sleep_data_final_step.corr(), dtype=np.bool)\n",
    "mask[np.triu_indices_from(mask)] = True\n",
    "\n",
    "# Set up the matplotlib figure\n",
    "f, ax = plt.subplots(figsize=(11, 9))\n",
    "\n",
    "# Generate a custom diverging colormap\n",
    "cmap = sns.diverging_palette(220, 10, as_cmap=True)\n",
    "\n",
    "# Draw the heatmap with the mask and correct aspect ratio\n",
    "sns.heatmap(sleep_data_final_step.corr(), mask=mask, cmap=cmap, vmax=.3, center=0,\n",
    "            square=True, linewidths=.5, cbar_kws={\"shrink\": .5},annot=True, fmt='0.0%')\n",
    "\n",
    "b, t = plt.ylim() # discover the values for bottom and top\n",
    "b += 0.5 # Add 0.5 to the bottom\n",
    "t -= 0.5 # Subtract 0.5 from the top\n",
    "plt.ylim(b, t) # update the ylim(bottom, top) values\n",
    "plt.show() # ta-da\n",
    "#https://github.com/mwaskom/seaborn/issues/1773"
   ]
  },
  {
   "cell_type": "markdown",
   "metadata": {},
   "source": [
    "- 'Step count' is **19%** correlated with 'Deep'\n",
    "- 'Step count' is **18%** correlated with 'REM'\n",
    "- 'Step count' is **-17%** correlated with 'Awaken'\n",
    "\n",
    "These might not be considered as very high correlation scores. Still, when it comes to finding correlations in human behaviours, it is worth noting.\n",
    "\n",
    "We also have to keep in mind that correlation does not imply causation: these scores only tell us that changes in one variable are associated with changes in another variable."
   ]
  },
  {
   "cell_type": "markdown",
   "metadata": {},
   "source": [
    "# Comparison vs. GitHub activity"
   ]
  },
  {
   "cell_type": "code",
   "execution_count": 68,
   "metadata": {},
   "outputs": [
    {
     "data": {
      "text/html": [
       "<div>\n",
       "<style scoped>\n",
       "    .dataframe tbody tr th:only-of-type {\n",
       "        vertical-align: middle;\n",
       "    }\n",
       "\n",
       "    .dataframe tbody tr th {\n",
       "        vertical-align: top;\n",
       "    }\n",
       "\n",
       "    .dataframe thead th {\n",
       "        text-align: right;\n",
       "    }\n",
       "</style>\n",
       "<table border=\"1\" class=\"dataframe\">\n",
       "  <thead>\n",
       "    <tr style=\"text-align: right;\">\n",
       "      <th></th>\n",
       "      <th>Date</th>\n",
       "      <th>Awaken</th>\n",
       "      <th>Deep</th>\n",
       "      <th>Light</th>\n",
       "      <th>REM</th>\n",
       "      <th>Total</th>\n",
       "      <th>Weekend</th>\n",
       "    </tr>\n",
       "  </thead>\n",
       "  <tbody>\n",
       "    <tr>\n",
       "      <td>0</td>\n",
       "      <td>2020-09-01</td>\n",
       "      <td>00:45:00</td>\n",
       "      <td>00:42:00</td>\n",
       "      <td>04:52:00</td>\n",
       "      <td>01:46:00</td>\n",
       "      <td>08:05:00</td>\n",
       "      <td>0</td>\n",
       "    </tr>\n",
       "    <tr>\n",
       "      <td>1</td>\n",
       "      <td>2020-09-02</td>\n",
       "      <td>00:55:00</td>\n",
       "      <td>00:47:00</td>\n",
       "      <td>05:28:00</td>\n",
       "      <td>00:57:00</td>\n",
       "      <td>08:07:00</td>\n",
       "      <td>0</td>\n",
       "    </tr>\n",
       "    <tr>\n",
       "      <td>2</td>\n",
       "      <td>2020-09-03</td>\n",
       "      <td>00:32:00</td>\n",
       "      <td>00:49:00</td>\n",
       "      <td>02:52:00</td>\n",
       "      <td>01:34:00</td>\n",
       "      <td>05:47:00</td>\n",
       "      <td>0</td>\n",
       "    </tr>\n",
       "    <tr>\n",
       "      <td>3</td>\n",
       "      <td>2020-09-04</td>\n",
       "      <td>00:27:00</td>\n",
       "      <td>01:04:00</td>\n",
       "      <td>04:40:00</td>\n",
       "      <td>02:40:00</td>\n",
       "      <td>08:51:00</td>\n",
       "      <td>0</td>\n",
       "    </tr>\n",
       "    <tr>\n",
       "      <td>4</td>\n",
       "      <td>2020-09-05</td>\n",
       "      <td>00:38:00</td>\n",
       "      <td>00:46:00</td>\n",
       "      <td>06:05:00</td>\n",
       "      <td>01:07:00</td>\n",
       "      <td>08:36:00</td>\n",
       "      <td>1</td>\n",
       "    </tr>\n",
       "  </tbody>\n",
       "</table>\n",
       "</div>"
      ],
      "text/plain": [
       "        Date   Awaken     Deep    Light      REM    Total  Weekend\n",
       "0 2020-09-01 00:45:00 00:42:00 04:52:00 01:46:00 08:05:00        0\n",
       "1 2020-09-02 00:55:00 00:47:00 05:28:00 00:57:00 08:07:00        0\n",
       "2 2020-09-03 00:32:00 00:49:00 02:52:00 01:34:00 05:47:00        0\n",
       "3 2020-09-04 00:27:00 01:04:00 04:40:00 02:40:00 08:51:00        0\n",
       "4 2020-09-05 00:38:00 00:46:00 06:05:00 01:07:00 08:36:00        1"
      ]
     },
     "execution_count": 68,
     "metadata": {},
     "output_type": "execute_result"
    }
   ],
   "source": [
    "sleep_data_final.head()"
   ]
  },
  {
   "cell_type": "code",
   "execution_count": 70,
   "metadata": {},
   "outputs": [],
   "source": [
    "github_data = pd.read_excel('Github_activity.xlsx')"
   ]
  },
  {
   "cell_type": "code",
   "execution_count": 71,
   "metadata": {},
   "outputs": [],
   "source": [
    "sleep_data_final_github = pd.merge(sleep_data_final,github_data)"
   ]
  },
  {
   "cell_type": "code",
   "execution_count": 72,
   "metadata": {},
   "outputs": [
    {
     "data": {
      "text/html": [
       "<div>\n",
       "<style scoped>\n",
       "    .dataframe tbody tr th:only-of-type {\n",
       "        vertical-align: middle;\n",
       "    }\n",
       "\n",
       "    .dataframe tbody tr th {\n",
       "        vertical-align: top;\n",
       "    }\n",
       "\n",
       "    .dataframe thead th {\n",
       "        text-align: right;\n",
       "    }\n",
       "</style>\n",
       "<table border=\"1\" class=\"dataframe\">\n",
       "  <thead>\n",
       "    <tr style=\"text-align: right;\">\n",
       "      <th></th>\n",
       "      <th>Date</th>\n",
       "      <th>Awaken</th>\n",
       "      <th>Deep</th>\n",
       "      <th>Light</th>\n",
       "      <th>REM</th>\n",
       "      <th>Total</th>\n",
       "      <th>Weekend</th>\n",
       "      <th>Github activity</th>\n",
       "    </tr>\n",
       "  </thead>\n",
       "  <tbody>\n",
       "    <tr>\n",
       "      <td>0</td>\n",
       "      <td>2020-09-01</td>\n",
       "      <td>00:45:00</td>\n",
       "      <td>00:42:00</td>\n",
       "      <td>04:52:00</td>\n",
       "      <td>01:46:00</td>\n",
       "      <td>08:05:00</td>\n",
       "      <td>0</td>\n",
       "      <td>0</td>\n",
       "    </tr>\n",
       "    <tr>\n",
       "      <td>1</td>\n",
       "      <td>2020-09-02</td>\n",
       "      <td>00:55:00</td>\n",
       "      <td>00:47:00</td>\n",
       "      <td>05:28:00</td>\n",
       "      <td>00:57:00</td>\n",
       "      <td>08:07:00</td>\n",
       "      <td>0</td>\n",
       "      <td>0</td>\n",
       "    </tr>\n",
       "    <tr>\n",
       "      <td>2</td>\n",
       "      <td>2020-09-03</td>\n",
       "      <td>00:32:00</td>\n",
       "      <td>00:49:00</td>\n",
       "      <td>02:52:00</td>\n",
       "      <td>01:34:00</td>\n",
       "      <td>05:47:00</td>\n",
       "      <td>0</td>\n",
       "      <td>0</td>\n",
       "    </tr>\n",
       "    <tr>\n",
       "      <td>3</td>\n",
       "      <td>2020-09-04</td>\n",
       "      <td>00:27:00</td>\n",
       "      <td>01:04:00</td>\n",
       "      <td>04:40:00</td>\n",
       "      <td>02:40:00</td>\n",
       "      <td>08:51:00</td>\n",
       "      <td>0</td>\n",
       "      <td>0</td>\n",
       "    </tr>\n",
       "    <tr>\n",
       "      <td>4</td>\n",
       "      <td>2020-09-05</td>\n",
       "      <td>00:38:00</td>\n",
       "      <td>00:46:00</td>\n",
       "      <td>06:05:00</td>\n",
       "      <td>01:07:00</td>\n",
       "      <td>08:36:00</td>\n",
       "      <td>1</td>\n",
       "      <td>0</td>\n",
       "    </tr>\n",
       "  </tbody>\n",
       "</table>\n",
       "</div>"
      ],
      "text/plain": [
       "        Date   Awaken     Deep    Light      REM    Total  Weekend  \\\n",
       "0 2020-09-01 00:45:00 00:42:00 04:52:00 01:46:00 08:05:00        0   \n",
       "1 2020-09-02 00:55:00 00:47:00 05:28:00 00:57:00 08:07:00        0   \n",
       "2 2020-09-03 00:32:00 00:49:00 02:52:00 01:34:00 05:47:00        0   \n",
       "3 2020-09-04 00:27:00 01:04:00 04:40:00 02:40:00 08:51:00        0   \n",
       "4 2020-09-05 00:38:00 00:46:00 06:05:00 01:07:00 08:36:00        1   \n",
       "\n",
       "   Github activity  \n",
       "0                0  \n",
       "1                0  \n",
       "2                0  \n",
       "3                0  \n",
       "4                0  "
      ]
     },
     "execution_count": 72,
     "metadata": {},
     "output_type": "execute_result"
    }
   ],
   "source": [
    "sleep_data_final_github.head()"
   ]
  },
  {
   "cell_type": "code",
   "execution_count": 73,
   "metadata": {},
   "outputs": [],
   "source": [
    "sleep_data_final_github['Awaken']=sleep_data_final_github['Awaken'].astype('timedelta64[m]')\n",
    "sleep_data_final_github['Deep']=sleep_data_final_github['Deep'].astype('timedelta64[m]')\n",
    "sleep_data_final_github['Light']=sleep_data_final_github['Light'].astype('timedelta64[m]')\n",
    "sleep_data_final_github['REM']=sleep_data_final_github['REM'].astype('timedelta64[m]')\n",
    "sleep_data_final_github['Total']=sleep_data_final_github['Total'].astype('timedelta64[m]')"
   ]
  },
  {
   "cell_type": "code",
   "execution_count": 74,
   "metadata": {},
   "outputs": [
    {
     "data": {
      "image/png": "[encoded data removed]",
      "text/plain": [
       "<Figure size 792x648 with 2 Axes>"
      ]
     },
     "metadata": {},
     "output_type": "display_data"
    }
   ],
   "source": [
    "mask = np.zeros_like(sleep_data_final_github.corr(), dtype=np.bool)\n",
    "mask[np.triu_indices_from(mask)] = True\n",
    "\n",
    "# Set up the matplotlib figure\n",
    "f, ax = plt.subplots(figsize=(11, 9))\n",
    "\n",
    "# Generate a custom diverging colormap\n",
    "cmap = sns.diverging_palette(220, 10, as_cmap=True)\n",
    "\n",
    "# Draw the heatmap with the mask and correct aspect ratio\n",
    "sns.heatmap(sleep_data_final_github.corr(), mask=mask, cmap=cmap, vmax=.3, center=0,\n",
    "            square=True, linewidths=.5, cbar_kws={\"shrink\": .5},annot=True, fmt='0.0%')\n",
    "\n",
    "b, t = plt.ylim() # discover the values for bottom and top\n",
    "b += 0.5 # Add 0.5 to the bottom\n",
    "t -= 0.5 # Subtract 0.5 from the top\n",
    "plt.ylim(b, t) # update the ylim(bottom, top) values\n",
    "plt.show() # ta-da\n",
    "#https://github.com/mwaskom/seaborn/issues/1773"
   ]
  },
  {
   "cell_type": "markdown",
   "metadata": {},
   "source": [
    "- 'Github activity' is **-15%** correlated with 'Awaken'\n",
    "- 'Github activity' is **-10%** correlated with 'Deep'\n",
    "\n",
    "These correlations could be explained by the fact that I have only categorized as \"1\" when I was coding late at night. I wanted to assess whether late coding would affect my sleep. As a matter of fact, I usually coded until I would feel sleepy, so I did not have troubles to sleep. This could explain the negative correlation with \"Awaken\". Besides, I was expecting a negative correlation with deep sleep knowing the fact that when you go to sleep later than you should, you might miss some sleeping phases. I have read that deep sleep usually occurs in the very first stages of sleep. Therefore, having a negative correlation with GitHub activity was expected.\n",
    "\n",
    "These might not be considered as very high correlation scores. Still, when it comes to finding correlations in human behaviours, it is worth noting."
   ]
  },
  {
   "cell_type": "code",
   "execution_count": null,
   "metadata": {},
   "outputs": [],
   "source": []
  }
 ],
 "metadata": {
  "kernelspec": {
   "display_name": "Python 3",
   "language": "python",
   "name": "python3"
  },
  "language_info": {
   "codemirror_mode": {
    "name": "ipython",
    "version": 3
   },
   "file_extension": ".py",
   "mimetype": "text/x-python",
   "name": "python",
   "nbconvert_exporter": "python",
   "pygments_lexer": "ipython3",
   "version": "3.7.4"
  }
 },
 "nbformat": 4,
 "nbformat_minor": 2
}
